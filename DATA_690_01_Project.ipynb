{
  "nbformat": 4,
  "nbformat_minor": 0,
  "metadata": {
    "colab": {
      "name": "DATA_690_01_Project.ipynb",
      "provenance": [],
      "collapsed_sections": [],
      "authorship_tag": "ABX9TyMTrO5dcp3b0hChM4kVJIlA",
      "include_colab_link": true
    },
    "kernelspec": {
      "name": "python3",
      "display_name": "Python 3"
    }
  },
  "cells": [
    {
      "cell_type": "markdown",
      "metadata": {
        "id": "view-in-github",
        "colab_type": "text"
      },
      "source": [
        "<a href=\"https://colab.research.google.com/github/arjredy/DATA_690_01_Final_Project/blob/main/DATA_690_01_Project.ipynb\" target=\"_parent\"><img src=\"https://colab.research.google.com/assets/colab-badge.svg\" alt=\"Open In Colab\"/></a>"
      ]
    },
    {
      "cell_type": "markdown",
      "metadata": {
        "id": "b1oN7zjmADCw"
      },
      "source": [
        "# **Deliverable 2: Interim Work in Jupyter Notebook**"
      ]
    },
    {
      "cell_type": "markdown",
      "metadata": {
        "id": "FVTPrnl9AcaG"
      },
      "source": [
        "1. The interim deliverable allows the instructor to review your preliminary work and provide feedback.\n",
        "\n",
        "2. You will perform the loading, examination, and processing of the data using Pandas.\n",
        "\n",
        "3. You will perform descriptive analytics. Display number of observations (rows), variables (columns), summary statistics.\n",
        "\n",
        "4. You may produce some simple plots. This will help you get a feel of your data and inform your next step of analysis.\n",
        "\n",
        "5. You should submit a Jupyter Notebook with well-formatted documentation (in MArkdown cells) and Python comments (in code cells), Python code, and output (plots, charts).\n",
        "\n",
        "6. The project proposal will no longer be needed. All of part of its content should be incorporated in the Jupyter notebook.\n",
        "\n",
        "**Special instructions:**\n",
        "\n",
        "1. Please format the Jupyter Notebook file neatly and nicely for readability. Treat it as a research paper and a project in your portfolio.\n",
        "\n",
        "2. The file must be self-explanatory and can stand alone so the readers understand the project without having to read other documents or ask you for clarification.\n",
        "\n",
        "3. Use markdown cell for large block of texts such as background, data sources, list of elements and their meanings.\n",
        "\n",
        "4. In a code cell, use comments above a line of code or to the right of a line of code to annotate/comment the code only necessary.\n",
        "\n",
        "5. Limit the length of outputs. For example, don't output more data than necessary. Use head / tail /sample on dataframe to limit the number of rows displayed (5 or 10 is good);\n",
        "\n",
        "6. Structure your notebook with headings including sequence numbers and section titles similar to a paper. Also use bold, italic, bulletted list, etc.\n",
        "Don't do complicated techniques or too many techniques, keep it simple and focus on the clarity of concepts and the style of communications.\n",
        "7. This is a proof-of-concept deliverable which helps you practice data science. You are graded both on the substance and the style.\n",
        "On the substance: focus on data preparation and data visualization (make sure the plots are large enough). Statistical inference is optional.\n",
        "8. Don't boil the ocean. The issue you are looking into may be large, but you will only focus on one aspect of it and not try to solve the big problem. A couple of research questions would suffice. Don't try to answer too many questions.\n"
      ]
    },
    {
      "cell_type": "code",
      "metadata": {
        "id": "XRa-o5wEoK9N"
      },
      "source": [
        "# Importing Libraries\n",
        "import pandas as pd\n",
        "import numpy as np\n",
        "import matplotlib.pyplot as plt"
      ],
      "execution_count": 1,
      "outputs": []
    },
    {
      "cell_type": "code",
      "metadata": {
        "id": "SMBH0sVf0SWA"
      },
      "source": [
        "# Setting an option to display maximum rows and columns\n",
        "pd.set_option(\"display.max_rows\", 999)\n",
        "pd.set_option(\"display.max_columns\", 999)"
      ],
      "execution_count": 2,
      "outputs": []
    },
    {
      "cell_type": "code",
      "metadata": {
        "id": "HGM3AUtfx_ni",
        "outputId": "d60fc8ef-b39a-4985-b00e-e782f05f0bc1",
        "colab": {
          "base_uri": "https://localhost:8080/",
          "height": 359
        }
      },
      "source": [
        "# Reading the CSV using pandas, dframe is created for the second dataset and displaying the first 10 rows present in the dataset.\n",
        "dataset1 = pd.read_csv('crop_production.csv')\n",
        "dataset1.head(10)"
      ],
      "execution_count": 3,
      "outputs": [
        {
          "output_type": "execute_result",
          "data": {
            "text/html": [
              "<div>\n",
              "<style scoped>\n",
              "    .dataframe tbody tr th:only-of-type {\n",
              "        vertical-align: middle;\n",
              "    }\n",
              "\n",
              "    .dataframe tbody tr th {\n",
              "        vertical-align: top;\n",
              "    }\n",
              "\n",
              "    .dataframe thead th {\n",
              "        text-align: right;\n",
              "    }\n",
              "</style>\n",
              "<table border=\"1\" class=\"dataframe\">\n",
              "  <thead>\n",
              "    <tr style=\"text-align: right;\">\n",
              "      <th></th>\n",
              "      <th>State_Name</th>\n",
              "      <th>District_Name</th>\n",
              "      <th>Crop_Year</th>\n",
              "      <th>Season</th>\n",
              "      <th>Crop</th>\n",
              "      <th>Area</th>\n",
              "      <th>Production</th>\n",
              "    </tr>\n",
              "  </thead>\n",
              "  <tbody>\n",
              "    <tr>\n",
              "      <th>0</th>\n",
              "      <td>Andaman and Nicobar Islands</td>\n",
              "      <td>NICOBARS</td>\n",
              "      <td>2000</td>\n",
              "      <td>Kharif</td>\n",
              "      <td>Arecanut</td>\n",
              "      <td>1254.0</td>\n",
              "      <td>2000.0</td>\n",
              "    </tr>\n",
              "    <tr>\n",
              "      <th>1</th>\n",
              "      <td>Andaman and Nicobar Islands</td>\n",
              "      <td>NICOBARS</td>\n",
              "      <td>2000</td>\n",
              "      <td>Kharif</td>\n",
              "      <td>Other Kharif pulses</td>\n",
              "      <td>2.0</td>\n",
              "      <td>1.0</td>\n",
              "    </tr>\n",
              "    <tr>\n",
              "      <th>2</th>\n",
              "      <td>Andaman and Nicobar Islands</td>\n",
              "      <td>NICOBARS</td>\n",
              "      <td>2000</td>\n",
              "      <td>Kharif</td>\n",
              "      <td>Rice</td>\n",
              "      <td>102.0</td>\n",
              "      <td>321.0</td>\n",
              "    </tr>\n",
              "    <tr>\n",
              "      <th>3</th>\n",
              "      <td>Andaman and Nicobar Islands</td>\n",
              "      <td>NICOBARS</td>\n",
              "      <td>2000</td>\n",
              "      <td>Whole Year</td>\n",
              "      <td>Banana</td>\n",
              "      <td>176.0</td>\n",
              "      <td>641.0</td>\n",
              "    </tr>\n",
              "    <tr>\n",
              "      <th>4</th>\n",
              "      <td>Andaman and Nicobar Islands</td>\n",
              "      <td>NICOBARS</td>\n",
              "      <td>2000</td>\n",
              "      <td>Whole Year</td>\n",
              "      <td>Cashewnut</td>\n",
              "      <td>720.0</td>\n",
              "      <td>165.0</td>\n",
              "    </tr>\n",
              "    <tr>\n",
              "      <th>5</th>\n",
              "      <td>Andaman and Nicobar Islands</td>\n",
              "      <td>NICOBARS</td>\n",
              "      <td>2000</td>\n",
              "      <td>Whole Year</td>\n",
              "      <td>Coconut</td>\n",
              "      <td>18168.0</td>\n",
              "      <td>65100000.0</td>\n",
              "    </tr>\n",
              "    <tr>\n",
              "      <th>6</th>\n",
              "      <td>Andaman and Nicobar Islands</td>\n",
              "      <td>NICOBARS</td>\n",
              "      <td>2000</td>\n",
              "      <td>Whole Year</td>\n",
              "      <td>Dry ginger</td>\n",
              "      <td>36.0</td>\n",
              "      <td>100.0</td>\n",
              "    </tr>\n",
              "    <tr>\n",
              "      <th>7</th>\n",
              "      <td>Andaman and Nicobar Islands</td>\n",
              "      <td>NICOBARS</td>\n",
              "      <td>2000</td>\n",
              "      <td>Whole Year</td>\n",
              "      <td>Sugarcane</td>\n",
              "      <td>1.0</td>\n",
              "      <td>2.0</td>\n",
              "    </tr>\n",
              "    <tr>\n",
              "      <th>8</th>\n",
              "      <td>Andaman and Nicobar Islands</td>\n",
              "      <td>NICOBARS</td>\n",
              "      <td>2000</td>\n",
              "      <td>Whole Year</td>\n",
              "      <td>Sweet potato</td>\n",
              "      <td>5.0</td>\n",
              "      <td>15.0</td>\n",
              "    </tr>\n",
              "    <tr>\n",
              "      <th>9</th>\n",
              "      <td>Andaman and Nicobar Islands</td>\n",
              "      <td>NICOBARS</td>\n",
              "      <td>2000</td>\n",
              "      <td>Whole Year</td>\n",
              "      <td>Tapioca</td>\n",
              "      <td>40.0</td>\n",
              "      <td>169.0</td>\n",
              "    </tr>\n",
              "  </tbody>\n",
              "</table>\n",
              "</div>"
            ],
            "text/plain": [
              "                    State_Name District_Name  Crop_Year       Season  \\\n",
              "0  Andaman and Nicobar Islands      NICOBARS       2000  Kharif        \n",
              "1  Andaman and Nicobar Islands      NICOBARS       2000  Kharif        \n",
              "2  Andaman and Nicobar Islands      NICOBARS       2000  Kharif        \n",
              "3  Andaman and Nicobar Islands      NICOBARS       2000  Whole Year    \n",
              "4  Andaman and Nicobar Islands      NICOBARS       2000  Whole Year    \n",
              "5  Andaman and Nicobar Islands      NICOBARS       2000  Whole Year    \n",
              "6  Andaman and Nicobar Islands      NICOBARS       2000  Whole Year    \n",
              "7  Andaman and Nicobar Islands      NICOBARS       2000  Whole Year    \n",
              "8  Andaman and Nicobar Islands      NICOBARS       2000  Whole Year    \n",
              "9  Andaman and Nicobar Islands      NICOBARS       2000  Whole Year    \n",
              "\n",
              "                  Crop     Area  Production  \n",
              "0             Arecanut   1254.0      2000.0  \n",
              "1  Other Kharif pulses      2.0         1.0  \n",
              "2                 Rice    102.0       321.0  \n",
              "3               Banana    176.0       641.0  \n",
              "4            Cashewnut    720.0       165.0  \n",
              "5             Coconut   18168.0  65100000.0  \n",
              "6           Dry ginger     36.0       100.0  \n",
              "7            Sugarcane      1.0         2.0  \n",
              "8         Sweet potato      5.0        15.0  \n",
              "9              Tapioca     40.0       169.0  "
            ]
          },
          "metadata": {
            "tags": []
          },
          "execution_count": 3
        }
      ]
    },
    {
      "cell_type": "code",
      "metadata": {
        "id": "uund1bD5_MmV",
        "outputId": "a1d0c213-e00d-44fe-d508-fadef6b74950",
        "colab": {
          "base_uri": "https://localhost:8080/",
          "height": 359
        }
      },
      "source": [
        "# Displaying last 10 rows\n",
        "dataset1.tail(10)"
      ],
      "execution_count": 4,
      "outputs": [
        {
          "output_type": "execute_result",
          "data": {
            "text/html": [
              "<div>\n",
              "<style scoped>\n",
              "    .dataframe tbody tr th:only-of-type {\n",
              "        vertical-align: middle;\n",
              "    }\n",
              "\n",
              "    .dataframe tbody tr th {\n",
              "        vertical-align: top;\n",
              "    }\n",
              "\n",
              "    .dataframe thead th {\n",
              "        text-align: right;\n",
              "    }\n",
              "</style>\n",
              "<table border=\"1\" class=\"dataframe\">\n",
              "  <thead>\n",
              "    <tr style=\"text-align: right;\">\n",
              "      <th></th>\n",
              "      <th>State_Name</th>\n",
              "      <th>District_Name</th>\n",
              "      <th>Crop_Year</th>\n",
              "      <th>Season</th>\n",
              "      <th>Crop</th>\n",
              "      <th>Area</th>\n",
              "      <th>Production</th>\n",
              "    </tr>\n",
              "  </thead>\n",
              "  <tbody>\n",
              "    <tr>\n",
              "      <th>246081</th>\n",
              "      <td>West Bengal</td>\n",
              "      <td>PURULIA</td>\n",
              "      <td>2014</td>\n",
              "      <td>Rabi</td>\n",
              "      <td>Rapeseed &amp;Mustard</td>\n",
              "      <td>1885.0</td>\n",
              "      <td>1508.0</td>\n",
              "    </tr>\n",
              "    <tr>\n",
              "      <th>246082</th>\n",
              "      <td>West Bengal</td>\n",
              "      <td>PURULIA</td>\n",
              "      <td>2014</td>\n",
              "      <td>Rabi</td>\n",
              "      <td>Safflower</td>\n",
              "      <td>54.0</td>\n",
              "      <td>37.0</td>\n",
              "    </tr>\n",
              "    <tr>\n",
              "      <th>246083</th>\n",
              "      <td>West Bengal</td>\n",
              "      <td>PURULIA</td>\n",
              "      <td>2014</td>\n",
              "      <td>Rabi</td>\n",
              "      <td>Urad</td>\n",
              "      <td>220.0</td>\n",
              "      <td>113.0</td>\n",
              "    </tr>\n",
              "    <tr>\n",
              "      <th>246084</th>\n",
              "      <td>West Bengal</td>\n",
              "      <td>PURULIA</td>\n",
              "      <td>2014</td>\n",
              "      <td>Rabi</td>\n",
              "      <td>Wheat</td>\n",
              "      <td>1622.0</td>\n",
              "      <td>3663.0</td>\n",
              "    </tr>\n",
              "    <tr>\n",
              "      <th>246085</th>\n",
              "      <td>West Bengal</td>\n",
              "      <td>PURULIA</td>\n",
              "      <td>2014</td>\n",
              "      <td>Summer</td>\n",
              "      <td>Maize</td>\n",
              "      <td>325.0</td>\n",
              "      <td>2039.0</td>\n",
              "    </tr>\n",
              "    <tr>\n",
              "      <th>246086</th>\n",
              "      <td>West Bengal</td>\n",
              "      <td>PURULIA</td>\n",
              "      <td>2014</td>\n",
              "      <td>Summer</td>\n",
              "      <td>Rice</td>\n",
              "      <td>306.0</td>\n",
              "      <td>801.0</td>\n",
              "    </tr>\n",
              "    <tr>\n",
              "      <th>246087</th>\n",
              "      <td>West Bengal</td>\n",
              "      <td>PURULIA</td>\n",
              "      <td>2014</td>\n",
              "      <td>Summer</td>\n",
              "      <td>Sesamum</td>\n",
              "      <td>627.0</td>\n",
              "      <td>463.0</td>\n",
              "    </tr>\n",
              "    <tr>\n",
              "      <th>246088</th>\n",
              "      <td>West Bengal</td>\n",
              "      <td>PURULIA</td>\n",
              "      <td>2014</td>\n",
              "      <td>Whole Year</td>\n",
              "      <td>Sugarcane</td>\n",
              "      <td>324.0</td>\n",
              "      <td>16250.0</td>\n",
              "    </tr>\n",
              "    <tr>\n",
              "      <th>246089</th>\n",
              "      <td>West Bengal</td>\n",
              "      <td>PURULIA</td>\n",
              "      <td>2014</td>\n",
              "      <td>Winter</td>\n",
              "      <td>Rice</td>\n",
              "      <td>279151.0</td>\n",
              "      <td>597899.0</td>\n",
              "    </tr>\n",
              "    <tr>\n",
              "      <th>246090</th>\n",
              "      <td>West Bengal</td>\n",
              "      <td>PURULIA</td>\n",
              "      <td>2014</td>\n",
              "      <td>Winter</td>\n",
              "      <td>Sesamum</td>\n",
              "      <td>175.0</td>\n",
              "      <td>88.0</td>\n",
              "    </tr>\n",
              "  </tbody>\n",
              "</table>\n",
              "</div>"
            ],
            "text/plain": [
              "         State_Name District_Name  Crop_Year       Season               Crop  \\\n",
              "246081  West Bengal       PURULIA       2014  Rabi         Rapeseed &Mustard   \n",
              "246082  West Bengal       PURULIA       2014  Rabi                 Safflower   \n",
              "246083  West Bengal       PURULIA       2014  Rabi                      Urad   \n",
              "246084  West Bengal       PURULIA       2014  Rabi                     Wheat   \n",
              "246085  West Bengal       PURULIA       2014  Summer                   Maize   \n",
              "246086  West Bengal       PURULIA       2014  Summer                    Rice   \n",
              "246087  West Bengal       PURULIA       2014  Summer                 Sesamum   \n",
              "246088  West Bengal       PURULIA       2014  Whole Year           Sugarcane   \n",
              "246089  West Bengal       PURULIA       2014  Winter                    Rice   \n",
              "246090  West Bengal       PURULIA       2014  Winter                 Sesamum   \n",
              "\n",
              "            Area  Production  \n",
              "246081    1885.0      1508.0  \n",
              "246082      54.0        37.0  \n",
              "246083     220.0       113.0  \n",
              "246084    1622.0      3663.0  \n",
              "246085     325.0      2039.0  \n",
              "246086     306.0       801.0  \n",
              "246087     627.0       463.0  \n",
              "246088     324.0     16250.0  \n",
              "246089  279151.0    597899.0  \n",
              "246090     175.0        88.0  "
            ]
          },
          "metadata": {
            "tags": []
          },
          "execution_count": 4
        }
      ]
    },
    {
      "cell_type": "code",
      "metadata": {
        "id": "cd6qAoL3x_gg"
      },
      "source": [
        "pd.set_option(\"display.max_rows\", 999)\n",
        "pd.set_option(\"display.max_columns\", 999)"
      ],
      "execution_count": 5,
      "outputs": []
    },
    {
      "cell_type": "code",
      "metadata": {
        "id": "G-RJXJk_x_Xo",
        "outputId": "9e798c08-d1d9-41bb-9ac0-7af64ac632cd",
        "colab": {
          "base_uri": "https://localhost:8080/",
          "height": 359
        }
      },
      "source": [
        "# Reading the CSV using pandas, dframe is created for the second dataset and displaying the first 10 rows present in the dataset.\n",
        "dataset2 = pd.read_csv('Weather data.csv')\n",
        "dataset2.head(10)"
      ],
      "execution_count": 6,
      "outputs": [
        {
          "output_type": "execute_result",
          "data": {
            "text/html": [
              "<div>\n",
              "<style scoped>\n",
              "    .dataframe tbody tr th:only-of-type {\n",
              "        vertical-align: middle;\n",
              "    }\n",
              "\n",
              "    .dataframe tbody tr th {\n",
              "        vertical-align: top;\n",
              "    }\n",
              "\n",
              "    .dataframe thead th {\n",
              "        text-align: right;\n",
              "    }\n",
              "</style>\n",
              "<table border=\"1\" class=\"dataframe\">\n",
              "  <thead>\n",
              "    <tr style=\"text-align: right;\">\n",
              "      <th></th>\n",
              "      <th>Unnamed: 0</th>\n",
              "      <th>YEAR</th>\n",
              "      <th>JAN</th>\n",
              "      <th>FEB</th>\n",
              "      <th>MAR</th>\n",
              "      <th>APR</th>\n",
              "      <th>MAY</th>\n",
              "      <th>JUN</th>\n",
              "      <th>JUL</th>\n",
              "      <th>AUG</th>\n",
              "      <th>SEP</th>\n",
              "      <th>OCT</th>\n",
              "      <th>NOV</th>\n",
              "      <th>DEC</th>\n",
              "    </tr>\n",
              "  </thead>\n",
              "  <tbody>\n",
              "    <tr>\n",
              "      <th>0</th>\n",
              "      <td>0</td>\n",
              "      <td>1901</td>\n",
              "      <td>17.99</td>\n",
              "      <td>19.43</td>\n",
              "      <td>23.49</td>\n",
              "      <td>26.41</td>\n",
              "      <td>28.28</td>\n",
              "      <td>28.60</td>\n",
              "      <td>27.49</td>\n",
              "      <td>26.98</td>\n",
              "      <td>26.26</td>\n",
              "      <td>25.08</td>\n",
              "      <td>21.73</td>\n",
              "      <td>18.95</td>\n",
              "    </tr>\n",
              "    <tr>\n",
              "      <th>1</th>\n",
              "      <td>1</td>\n",
              "      <td>1902</td>\n",
              "      <td>19.00</td>\n",
              "      <td>20.39</td>\n",
              "      <td>24.10</td>\n",
              "      <td>26.54</td>\n",
              "      <td>28.68</td>\n",
              "      <td>28.44</td>\n",
              "      <td>27.29</td>\n",
              "      <td>27.05</td>\n",
              "      <td>25.95</td>\n",
              "      <td>24.37</td>\n",
              "      <td>21.33</td>\n",
              "      <td>18.78</td>\n",
              "    </tr>\n",
              "    <tr>\n",
              "      <th>2</th>\n",
              "      <td>2</td>\n",
              "      <td>1903</td>\n",
              "      <td>18.32</td>\n",
              "      <td>19.79</td>\n",
              "      <td>22.46</td>\n",
              "      <td>26.03</td>\n",
              "      <td>27.93</td>\n",
              "      <td>28.41</td>\n",
              "      <td>28.04</td>\n",
              "      <td>26.63</td>\n",
              "      <td>26.34</td>\n",
              "      <td>24.57</td>\n",
              "      <td>20.96</td>\n",
              "      <td>18.29</td>\n",
              "    </tr>\n",
              "    <tr>\n",
              "      <th>3</th>\n",
              "      <td>3</td>\n",
              "      <td>1904</td>\n",
              "      <td>17.77</td>\n",
              "      <td>19.39</td>\n",
              "      <td>22.95</td>\n",
              "      <td>26.73</td>\n",
              "      <td>27.83</td>\n",
              "      <td>27.85</td>\n",
              "      <td>26.84</td>\n",
              "      <td>26.73</td>\n",
              "      <td>25.84</td>\n",
              "      <td>24.36</td>\n",
              "      <td>21.07</td>\n",
              "      <td>18.84</td>\n",
              "    </tr>\n",
              "    <tr>\n",
              "      <th>4</th>\n",
              "      <td>4</td>\n",
              "      <td>1905</td>\n",
              "      <td>17.40</td>\n",
              "      <td>17.79</td>\n",
              "      <td>21.78</td>\n",
              "      <td>24.84</td>\n",
              "      <td>28.32</td>\n",
              "      <td>28.69</td>\n",
              "      <td>27.67</td>\n",
              "      <td>27.47</td>\n",
              "      <td>26.29</td>\n",
              "      <td>26.16</td>\n",
              "      <td>22.07</td>\n",
              "      <td>18.71</td>\n",
              "    </tr>\n",
              "    <tr>\n",
              "      <th>5</th>\n",
              "      <td>5</td>\n",
              "      <td>1906</td>\n",
              "      <td>17.50</td>\n",
              "      <td>19.14</td>\n",
              "      <td>22.21</td>\n",
              "      <td>26.53</td>\n",
              "      <td>29.06</td>\n",
              "      <td>28.02</td>\n",
              "      <td>27.46</td>\n",
              "      <td>26.82</td>\n",
              "      <td>26.23</td>\n",
              "      <td>24.75</td>\n",
              "      <td>21.93</td>\n",
              "      <td>19.55</td>\n",
              "    </tr>\n",
              "    <tr>\n",
              "      <th>6</th>\n",
              "      <td>6</td>\n",
              "      <td>1907</td>\n",
              "      <td>19.27</td>\n",
              "      <td>19.42</td>\n",
              "      <td>22.03</td>\n",
              "      <td>26.98</td>\n",
              "      <td>27.52</td>\n",
              "      <td>27.66</td>\n",
              "      <td>27.28</td>\n",
              "      <td>26.38</td>\n",
              "      <td>26.26</td>\n",
              "      <td>24.72</td>\n",
              "      <td>22.11</td>\n",
              "      <td>18.46</td>\n",
              "    </tr>\n",
              "    <tr>\n",
              "      <th>7</th>\n",
              "      <td>7</td>\n",
              "      <td>1908</td>\n",
              "      <td>18.35</td>\n",
              "      <td>19.73</td>\n",
              "      <td>22.93</td>\n",
              "      <td>27.06</td>\n",
              "      <td>28.07</td>\n",
              "      <td>28.49</td>\n",
              "      <td>27.16</td>\n",
              "      <td>26.41</td>\n",
              "      <td>25.74</td>\n",
              "      <td>24.25</td>\n",
              "      <td>21.06</td>\n",
              "      <td>18.15</td>\n",
              "    </tr>\n",
              "    <tr>\n",
              "      <th>8</th>\n",
              "      <td>8</td>\n",
              "      <td>1909</td>\n",
              "      <td>17.79</td>\n",
              "      <td>19.05</td>\n",
              "      <td>23.40</td>\n",
              "      <td>25.76</td>\n",
              "      <td>27.97</td>\n",
              "      <td>27.67</td>\n",
              "      <td>26.56</td>\n",
              "      <td>26.43</td>\n",
              "      <td>25.47</td>\n",
              "      <td>24.37</td>\n",
              "      <td>22.01</td>\n",
              "      <td>18.86</td>\n",
              "    </tr>\n",
              "    <tr>\n",
              "      <th>9</th>\n",
              "      <td>9</td>\n",
              "      <td>1910</td>\n",
              "      <td>18.14</td>\n",
              "      <td>19.72</td>\n",
              "      <td>22.90</td>\n",
              "      <td>25.96</td>\n",
              "      <td>28.36</td>\n",
              "      <td>27.72</td>\n",
              "      <td>26.93</td>\n",
              "      <td>26.61</td>\n",
              "      <td>25.98</td>\n",
              "      <td>24.04</td>\n",
              "      <td>20.72</td>\n",
              "      <td>18.05</td>\n",
              "    </tr>\n",
              "  </tbody>\n",
              "</table>\n",
              "</div>"
            ],
            "text/plain": [
              "   Unnamed: 0  YEAR    JAN    FEB    MAR    APR    MAY    JUN    JUL    AUG  \\\n",
              "0           0  1901  17.99  19.43  23.49  26.41  28.28  28.60  27.49  26.98   \n",
              "1           1  1902  19.00  20.39  24.10  26.54  28.68  28.44  27.29  27.05   \n",
              "2           2  1903  18.32  19.79  22.46  26.03  27.93  28.41  28.04  26.63   \n",
              "3           3  1904  17.77  19.39  22.95  26.73  27.83  27.85  26.84  26.73   \n",
              "4           4  1905  17.40  17.79  21.78  24.84  28.32  28.69  27.67  27.47   \n",
              "5           5  1906  17.50  19.14  22.21  26.53  29.06  28.02  27.46  26.82   \n",
              "6           6  1907  19.27  19.42  22.03  26.98  27.52  27.66  27.28  26.38   \n",
              "7           7  1908  18.35  19.73  22.93  27.06  28.07  28.49  27.16  26.41   \n",
              "8           8  1909  17.79  19.05  23.40  25.76  27.97  27.67  26.56  26.43   \n",
              "9           9  1910  18.14  19.72  22.90  25.96  28.36  27.72  26.93  26.61   \n",
              "\n",
              "     SEP    OCT    NOV    DEC  \n",
              "0  26.26  25.08  21.73  18.95  \n",
              "1  25.95  24.37  21.33  18.78  \n",
              "2  26.34  24.57  20.96  18.29  \n",
              "3  25.84  24.36  21.07  18.84  \n",
              "4  26.29  26.16  22.07  18.71  \n",
              "5  26.23  24.75  21.93  19.55  \n",
              "6  26.26  24.72  22.11  18.46  \n",
              "7  25.74  24.25  21.06  18.15  \n",
              "8  25.47  24.37  22.01  18.86  \n",
              "9  25.98  24.04  20.72  18.05  "
            ]
          },
          "metadata": {
            "tags": []
          },
          "execution_count": 6
        }
      ]
    },
    {
      "cell_type": "code",
      "metadata": {
        "id": "0qMrfU6S_RUL",
        "outputId": "3dd3971d-80f3-4395-b2d2-8fa68d1dc5b1",
        "colab": {
          "base_uri": "https://localhost:8080/",
          "height": 359
        }
      },
      "source": [
        "# Displaying last 10 rows\n",
        "dataset2.tail(10)"
      ],
      "execution_count": 7,
      "outputs": [
        {
          "output_type": "execute_result",
          "data": {
            "text/html": [
              "<div>\n",
              "<style scoped>\n",
              "    .dataframe tbody tr th:only-of-type {\n",
              "        vertical-align: middle;\n",
              "    }\n",
              "\n",
              "    .dataframe tbody tr th {\n",
              "        vertical-align: top;\n",
              "    }\n",
              "\n",
              "    .dataframe thead th {\n",
              "        text-align: right;\n",
              "    }\n",
              "</style>\n",
              "<table border=\"1\" class=\"dataframe\">\n",
              "  <thead>\n",
              "    <tr style=\"text-align: right;\">\n",
              "      <th></th>\n",
              "      <th>Unnamed: 0</th>\n",
              "      <th>YEAR</th>\n",
              "      <th>JAN</th>\n",
              "      <th>FEB</th>\n",
              "      <th>MAR</th>\n",
              "      <th>APR</th>\n",
              "      <th>MAY</th>\n",
              "      <th>JUN</th>\n",
              "      <th>JUL</th>\n",
              "      <th>AUG</th>\n",
              "      <th>SEP</th>\n",
              "      <th>OCT</th>\n",
              "      <th>NOV</th>\n",
              "      <th>DEC</th>\n",
              "    </tr>\n",
              "  </thead>\n",
              "  <tbody>\n",
              "    <tr>\n",
              "      <th>107</th>\n",
              "      <td>107</td>\n",
              "      <td>2008</td>\n",
              "      <td>18.49</td>\n",
              "      <td>19.83</td>\n",
              "      <td>24.43</td>\n",
              "      <td>26.54</td>\n",
              "      <td>28.42</td>\n",
              "      <td>28.10</td>\n",
              "      <td>27.50</td>\n",
              "      <td>27.00</td>\n",
              "      <td>26.44</td>\n",
              "      <td>25.47</td>\n",
              "      <td>22.51</td>\n",
              "      <td>20.62</td>\n",
              "    </tr>\n",
              "    <tr>\n",
              "      <th>108</th>\n",
              "      <td>108</td>\n",
              "      <td>2009</td>\n",
              "      <td>19.79</td>\n",
              "      <td>21.66</td>\n",
              "      <td>24.55</td>\n",
              "      <td>27.35</td>\n",
              "      <td>28.71</td>\n",
              "      <td>28.77</td>\n",
              "      <td>27.83</td>\n",
              "      <td>27.85</td>\n",
              "      <td>27.11</td>\n",
              "      <td>25.20</td>\n",
              "      <td>22.31</td>\n",
              "      <td>20.22</td>\n",
              "    </tr>\n",
              "    <tr>\n",
              "      <th>109</th>\n",
              "      <td>109</td>\n",
              "      <td>2010</td>\n",
              "      <td>19.15</td>\n",
              "      <td>21.23</td>\n",
              "      <td>26.53</td>\n",
              "      <td>28.40</td>\n",
              "      <td>29.19</td>\n",
              "      <td>28.51</td>\n",
              "      <td>27.55</td>\n",
              "      <td>27.33</td>\n",
              "      <td>26.60</td>\n",
              "      <td>25.58</td>\n",
              "      <td>22.98</td>\n",
              "      <td>19.22</td>\n",
              "    </tr>\n",
              "    <tr>\n",
              "      <th>110</th>\n",
              "      <td>110</td>\n",
              "      <td>2011</td>\n",
              "      <td>18.32</td>\n",
              "      <td>20.79</td>\n",
              "      <td>24.11</td>\n",
              "      <td>26.10</td>\n",
              "      <td>28.92</td>\n",
              "      <td>28.60</td>\n",
              "      <td>27.60</td>\n",
              "      <td>27.20</td>\n",
              "      <td>26.70</td>\n",
              "      <td>25.51</td>\n",
              "      <td>22.84</td>\n",
              "      <td>19.84</td>\n",
              "    </tr>\n",
              "    <tr>\n",
              "      <th>111</th>\n",
              "      <td>111</td>\n",
              "      <td>2012</td>\n",
              "      <td>18.25</td>\n",
              "      <td>20.43</td>\n",
              "      <td>23.98</td>\n",
              "      <td>26.89</td>\n",
              "      <td>28.72</td>\n",
              "      <td>28.91</td>\n",
              "      <td>27.98</td>\n",
              "      <td>27.31</td>\n",
              "      <td>26.65</td>\n",
              "      <td>24.85</td>\n",
              "      <td>22.26</td>\n",
              "      <td>19.91</td>\n",
              "    </tr>\n",
              "    <tr>\n",
              "      <th>112</th>\n",
              "      <td>112</td>\n",
              "      <td>2013</td>\n",
              "      <td>18.88</td>\n",
              "      <td>21.07</td>\n",
              "      <td>24.53</td>\n",
              "      <td>26.97</td>\n",
              "      <td>29.06</td>\n",
              "      <td>28.24</td>\n",
              "      <td>27.50</td>\n",
              "      <td>27.22</td>\n",
              "      <td>26.87</td>\n",
              "      <td>25.63</td>\n",
              "      <td>22.18</td>\n",
              "      <td>19.69</td>\n",
              "    </tr>\n",
              "    <tr>\n",
              "      <th>113</th>\n",
              "      <td>113</td>\n",
              "      <td>2014</td>\n",
              "      <td>18.81</td>\n",
              "      <td>20.35</td>\n",
              "      <td>23.34</td>\n",
              "      <td>26.91</td>\n",
              "      <td>28.45</td>\n",
              "      <td>29.42</td>\n",
              "      <td>28.07</td>\n",
              "      <td>27.42</td>\n",
              "      <td>26.61</td>\n",
              "      <td>25.38</td>\n",
              "      <td>22.53</td>\n",
              "      <td>19.50</td>\n",
              "    </tr>\n",
              "    <tr>\n",
              "      <th>114</th>\n",
              "      <td>114</td>\n",
              "      <td>2015</td>\n",
              "      <td>19.02</td>\n",
              "      <td>21.23</td>\n",
              "      <td>23.52</td>\n",
              "      <td>26.52</td>\n",
              "      <td>28.82</td>\n",
              "      <td>28.15</td>\n",
              "      <td>28.03</td>\n",
              "      <td>27.64</td>\n",
              "      <td>27.04</td>\n",
              "      <td>25.82</td>\n",
              "      <td>22.95</td>\n",
              "      <td>20.21</td>\n",
              "    </tr>\n",
              "    <tr>\n",
              "      <th>115</th>\n",
              "      <td>115</td>\n",
              "      <td>2016</td>\n",
              "      <td>20.92</td>\n",
              "      <td>23.58</td>\n",
              "      <td>26.61</td>\n",
              "      <td>29.56</td>\n",
              "      <td>30.41</td>\n",
              "      <td>29.70</td>\n",
              "      <td>28.18</td>\n",
              "      <td>28.17</td>\n",
              "      <td>27.72</td>\n",
              "      <td>26.81</td>\n",
              "      <td>23.90</td>\n",
              "      <td>21.89</td>\n",
              "    </tr>\n",
              "    <tr>\n",
              "      <th>116</th>\n",
              "      <td>116</td>\n",
              "      <td>2017</td>\n",
              "      <td>20.59</td>\n",
              "      <td>23.08</td>\n",
              "      <td>25.58</td>\n",
              "      <td>29.17</td>\n",
              "      <td>30.47</td>\n",
              "      <td>29.44</td>\n",
              "      <td>28.31</td>\n",
              "      <td>28.12</td>\n",
              "      <td>28.11</td>\n",
              "      <td>27.24</td>\n",
              "      <td>23.92</td>\n",
              "      <td>21.47</td>\n",
              "    </tr>\n",
              "  </tbody>\n",
              "</table>\n",
              "</div>"
            ],
            "text/plain": [
              "     Unnamed: 0  YEAR    JAN    FEB    MAR    APR    MAY    JUN    JUL    AUG  \\\n",
              "107         107  2008  18.49  19.83  24.43  26.54  28.42  28.10  27.50  27.00   \n",
              "108         108  2009  19.79  21.66  24.55  27.35  28.71  28.77  27.83  27.85   \n",
              "109         109  2010  19.15  21.23  26.53  28.40  29.19  28.51  27.55  27.33   \n",
              "110         110  2011  18.32  20.79  24.11  26.10  28.92  28.60  27.60  27.20   \n",
              "111         111  2012  18.25  20.43  23.98  26.89  28.72  28.91  27.98  27.31   \n",
              "112         112  2013  18.88  21.07  24.53  26.97  29.06  28.24  27.50  27.22   \n",
              "113         113  2014  18.81  20.35  23.34  26.91  28.45  29.42  28.07  27.42   \n",
              "114         114  2015  19.02  21.23  23.52  26.52  28.82  28.15  28.03  27.64   \n",
              "115         115  2016  20.92  23.58  26.61  29.56  30.41  29.70  28.18  28.17   \n",
              "116         116  2017  20.59  23.08  25.58  29.17  30.47  29.44  28.31  28.12   \n",
              "\n",
              "       SEP    OCT    NOV    DEC  \n",
              "107  26.44  25.47  22.51  20.62  \n",
              "108  27.11  25.20  22.31  20.22  \n",
              "109  26.60  25.58  22.98  19.22  \n",
              "110  26.70  25.51  22.84  19.84  \n",
              "111  26.65  24.85  22.26  19.91  \n",
              "112  26.87  25.63  22.18  19.69  \n",
              "113  26.61  25.38  22.53  19.50  \n",
              "114  27.04  25.82  22.95  20.21  \n",
              "115  27.72  26.81  23.90  21.89  \n",
              "116  28.11  27.24  23.92  21.47  "
            ]
          },
          "metadata": {
            "tags": []
          },
          "execution_count": 7
        }
      ]
    },
    {
      "cell_type": "code",
      "metadata": {
        "id": "oI0qJ-yjx_MF",
        "outputId": "e1058c5c-08b9-497f-eeaf-0b2cda8d148c",
        "colab": {
          "base_uri": "https://localhost:8080/",
          "height": 34
        }
      },
      "source": [
        "# Checking the shape of the dataset1\n",
        "dataset1.shape"
      ],
      "execution_count": 8,
      "outputs": [
        {
          "output_type": "execute_result",
          "data": {
            "text/plain": [
              "(246091, 7)"
            ]
          },
          "metadata": {
            "tags": []
          },
          "execution_count": 8
        }
      ]
    },
    {
      "cell_type": "markdown",
      "metadata": {
        "id": "cQQbdO9HCw2v"
      },
      "source": [
        "**Dataset1 has 246,091 rows and 7 columns**"
      ]
    },
    {
      "cell_type": "code",
      "metadata": {
        "id": "GeIcphEcsyNA",
        "outputId": "e8565d52-0dc2-4634-8949-b263c94eda9e",
        "colab": {
          "base_uri": "https://localhost:8080/",
          "height": 34
        }
      },
      "source": [
        "# Checking the shape of the dataset2\n",
        "dataset2.shape"
      ],
      "execution_count": 9,
      "outputs": [
        {
          "output_type": "execute_result",
          "data": {
            "text/plain": [
              "(117, 14)"
            ]
          },
          "metadata": {
            "tags": []
          },
          "execution_count": 9
        }
      ]
    },
    {
      "cell_type": "markdown",
      "metadata": {
        "id": "6BMauJVYC6e1"
      },
      "source": [
        "**Dataset2 has 117 rows and 14 columns**"
      ]
    },
    {
      "cell_type": "code",
      "metadata": {
        "id": "bnVUdCzks_7A",
        "outputId": "21113169-3645-4697-c68c-73e07275a783",
        "colab": {
          "base_uri": "https://localhost:8080/",
          "height": 68
        }
      },
      "source": [
        "# Displaying the columns present in the dataset1\n",
        "dataset1.columns"
      ],
      "execution_count": 10,
      "outputs": [
        {
          "output_type": "execute_result",
          "data": {
            "text/plain": [
              "Index(['State_Name', 'District_Name', 'Crop_Year', 'Season', 'Crop', 'Area',\n",
              "       'Production'],\n",
              "      dtype='object')"
            ]
          },
          "metadata": {
            "tags": []
          },
          "execution_count": 10
        }
      ]
    },
    {
      "cell_type": "markdown",
      "metadata": {
        "id": "ZzqYjDp-Dgqa"
      },
      "source": [
        "####**Columns present in Dataset1 are:**\n",
        "* State_Name\n",
        "* District_Name\n",
        "* Crop_Year\n",
        "* Season\n",
        "* Crop\n",
        "* Area\n",
        "* Production "
      ]
    },
    {
      "cell_type": "code",
      "metadata": {
        "id": "xpabqCe-tD-K",
        "outputId": "3fed9474-55ec-44d4-9875-3fc649f78231",
        "colab": {
          "base_uri": "https://localhost:8080/",
          "height": 68
        }
      },
      "source": [
        "# Displaying the columns present in the dataset2\n",
        "dataset2.columns"
      ],
      "execution_count": 11,
      "outputs": [
        {
          "output_type": "execute_result",
          "data": {
            "text/plain": [
              "Index(['Unnamed: 0', 'YEAR', 'JAN', 'FEB', 'MAR', 'APR', 'MAY', 'JUN', 'JUL',\n",
              "       'AUG', 'SEP', 'OCT', 'NOV', 'DEC'],\n",
              "      dtype='object')"
            ]
          },
          "metadata": {
            "tags": []
          },
          "execution_count": 11
        }
      ]
    },
    {
      "cell_type": "markdown",
      "metadata": {
        "id": "Qu1aVhr1Ejs6"
      },
      "source": [
        "####**Columns present in Dataset2 are:**\n",
        "* 0\n",
        "* YEAR\n",
        "* JAN\n",
        "* FEB\n",
        "* MAR\n",
        "* APR\n",
        "* MAY\n",
        "* JUN\n",
        "* JUL\n",
        "* AUG\n",
        "* SEP\n",
        "* OCT\n",
        "* NOV\n",
        "* DEC"
      ]
    },
    {
      "cell_type": "code",
      "metadata": {
        "id": "cxhJLK3TtG5I",
        "outputId": "dea74291-dc5b-4af0-f6bf-7101832257be",
        "colab": {
          "base_uri": "https://localhost:8080/",
          "height": 153
        }
      },
      "source": [
        "# Checking null values in dataset1\n",
        "dataset1.isna().sum()"
      ],
      "execution_count": 12,
      "outputs": [
        {
          "output_type": "execute_result",
          "data": {
            "text/plain": [
              "State_Name          0\n",
              "District_Name       0\n",
              "Crop_Year           0\n",
              "Season              0\n",
              "Crop                0\n",
              "Area                0\n",
              "Production       3730\n",
              "dtype: int64"
            ]
          },
          "metadata": {
            "tags": []
          },
          "execution_count": 12
        }
      ]
    },
    {
      "cell_type": "markdown",
      "metadata": {
        "id": "9YE60BQ5FUzf"
      },
      "source": [
        "#####There are **3730** null values in 'Production' column of Dataset1"
      ]
    },
    {
      "cell_type": "code",
      "metadata": {
        "id": "R8a0WuxztMFZ",
        "outputId": "27ddc2df-d0f7-4d4d-91b8-48de763a89fa",
        "colab": {
          "base_uri": "https://localhost:8080/",
          "height": 272
        }
      },
      "source": [
        "# Checking null values in dataset2\n",
        "dataset2.isna().sum()"
      ],
      "execution_count": 13,
      "outputs": [
        {
          "output_type": "execute_result",
          "data": {
            "text/plain": [
              "Unnamed: 0    0\n",
              "YEAR          0\n",
              "JAN           0\n",
              "FEB           0\n",
              "MAR           0\n",
              "APR           0\n",
              "MAY           0\n",
              "JUN           0\n",
              "JUL           0\n",
              "AUG           0\n",
              "SEP           0\n",
              "OCT           0\n",
              "NOV           0\n",
              "DEC           0\n",
              "dtype: int64"
            ]
          },
          "metadata": {
            "tags": []
          },
          "execution_count": 13
        }
      ]
    },
    {
      "cell_type": "markdown",
      "metadata": {
        "id": "HEDlaCt7Fjt4"
      },
      "source": [
        "#####There are no null values in Dataset2"
      ]
    },
    {
      "cell_type": "code",
      "metadata": {
        "id": "lUjsMKKTtOaF"
      },
      "source": [
        "# Filling NA values using pandas fillna method for dataset1\n",
        "dataset1['Production'] = dataset1['Production'].fillna(method=\"ffill\")"
      ],
      "execution_count": 14,
      "outputs": []
    },
    {
      "cell_type": "markdown",
      "metadata": {
        "id": "lEFLqrwEFtlP"
      },
      "source": [
        "####Null values in dataset1 are replaced with NaN values using fillna() .fillna() function is used to fill NA/NaN values"
      ]
    },
    {
      "cell_type": "code",
      "metadata": {
        "id": "doRklUcYtgUQ",
        "outputId": "6e4b8b6f-bb98-4bad-b2f7-ac4d478d4ccd",
        "colab": {
          "base_uri": "https://localhost:8080/",
          "height": 153
        }
      },
      "source": [
        "#Rechecking the null values after filling them for dataset1\n",
        "dataset1.isna().sum()"
      ],
      "execution_count": 15,
      "outputs": [
        {
          "output_type": "execute_result",
          "data": {
            "text/plain": [
              "State_Name       0\n",
              "District_Name    0\n",
              "Crop_Year        0\n",
              "Season           0\n",
              "Crop             0\n",
              "Area             0\n",
              "Production       0\n",
              "dtype: int64"
            ]
          },
          "metadata": {
            "tags": []
          },
          "execution_count": 15
        }
      ]
    },
    {
      "cell_type": "markdown",
      "metadata": {
        "id": "Ts_L8acrGnew"
      },
      "source": [
        "####After Rechecking dataset1 values again after using fillna(), there are zero null values."
      ]
    },
    {
      "cell_type": "code",
      "metadata": {
        "id": "IWtUjhhitjq-",
        "outputId": "ef357b39-04f2-4cd1-e938-ab9f33b2309b",
        "colab": {
          "base_uri": "https://localhost:8080/",
          "height": 170
        }
      },
      "source": [
        "#Displaying unique values present in State_Name of dataset1\n",
        "dataset1['State_Name'].unique()"
      ],
      "execution_count": 16,
      "outputs": [
        {
          "output_type": "execute_result",
          "data": {
            "text/plain": [
              "array(['Andaman and Nicobar Islands', 'Andhra Pradesh',\n",
              "       'Arunachal Pradesh', 'Assam', 'Bihar', 'Chandigarh',\n",
              "       'Chhattisgarh', 'Dadra and Nagar Haveli', 'Goa', 'Gujarat',\n",
              "       'Haryana', 'Himachal Pradesh', 'Jammu and Kashmir ', 'Jharkhand',\n",
              "       'Karnataka', 'Kerala', 'Madhya Pradesh', 'Maharashtra', 'Manipur',\n",
              "       'Meghalaya', 'Mizoram', 'Nagaland', 'Odisha', 'Puducherry',\n",
              "       'Punjab', 'Rajasthan', 'Sikkim', 'Tamil Nadu', 'Telangana ',\n",
              "       'Tripura', 'Uttar Pradesh', 'Uttarakhand', 'West Bengal'],\n",
              "      dtype=object)"
            ]
          },
          "metadata": {
            "tags": []
          },
          "execution_count": 16
        }
      ]
    },
    {
      "cell_type": "code",
      "metadata": {
        "id": "L8_I_0UPttat",
        "outputId": "e31bba51-5bf8-4c46-cfeb-a7d73ee4e47f",
        "colab": {
          "base_uri": "https://localhost:8080/",
          "height": 1000
        }
      },
      "source": [
        "#Displaying unique values present in District_Name of dataset1\n",
        "dataset1['District_Name'].unique()"
      ],
      "execution_count": 17,
      "outputs": [
        {
          "output_type": "execute_result",
          "data": {
            "text/plain": [
              "array(['NICOBARS', 'NORTH AND MIDDLE ANDAMAN', 'SOUTH ANDAMANS',\n",
              "       'ANANTAPUR', 'CHITTOOR', 'EAST GODAVARI', 'GUNTUR', 'KADAPA',\n",
              "       'KRISHNA', 'KURNOOL', 'PRAKASAM', 'SPSR NELLORE', 'SRIKAKULAM',\n",
              "       'VISAKHAPATANAM', 'VIZIANAGARAM', 'WEST GODAVARI', 'ANJAW',\n",
              "       'CHANGLANG', 'DIBANG VALLEY', 'EAST KAMENG', 'EAST SIANG',\n",
              "       'KURUNG KUMEY', 'LOHIT', 'LONGDING', 'LOWER DIBANG VALLEY',\n",
              "       'LOWER SUBANSIRI', 'NAMSAI', 'PAPUM PARE', 'TAWANG', 'TIRAP',\n",
              "       'UPPER SIANG', 'UPPER SUBANSIRI', 'WEST KAMENG', 'WEST SIANG',\n",
              "       'BAKSA', 'BARPETA', 'BONGAIGAON', 'CACHAR', 'CHIRANG', 'DARRANG',\n",
              "       'DHEMAJI', 'DHUBRI', 'DIBRUGARH', 'DIMA HASAO', 'GOALPARA',\n",
              "       'GOLAGHAT', 'HAILAKANDI', 'JORHAT', 'KAMRUP', 'KAMRUP METRO',\n",
              "       'KARBI ANGLONG', 'KARIMGANJ', 'KOKRAJHAR', 'LAKHIMPUR', 'MARIGAON',\n",
              "       'NAGAON', 'NALBARI', 'SIVASAGAR', 'SONITPUR', 'TINSUKIA',\n",
              "       'UDALGURI', 'ARARIA', 'ARWAL', 'AURANGABAD', 'BANKA', 'BEGUSARAI',\n",
              "       'BHAGALPUR', 'BHOJPUR', 'BUXAR', 'DARBHANGA', 'GAYA', 'GOPALGANJ',\n",
              "       'JAMUI', 'JEHANABAD', 'KAIMUR (BHABUA)', 'KATIHAR', 'KHAGARIA',\n",
              "       'KISHANGANJ', 'LAKHISARAI', 'MADHEPURA', 'MADHUBANI', 'MUNGER',\n",
              "       'MUZAFFARPUR', 'NALANDA', 'NAWADA', 'PASHCHIM CHAMPARAN', 'PATNA',\n",
              "       'PURBI CHAMPARAN', 'PURNIA', 'ROHTAS', 'SAHARSA', 'SAMASTIPUR',\n",
              "       'SARAN', 'SHEIKHPURA', 'SHEOHAR', 'SITAMARHI', 'SIWAN', 'SUPAUL',\n",
              "       'VAISHALI', 'CHANDIGARH', 'BALOD', 'BALODA BAZAR', 'BALRAMPUR',\n",
              "       'BASTAR', 'BEMETARA', 'BIJAPUR', 'BILASPUR', 'DANTEWADA',\n",
              "       'DHAMTARI', 'DURG', 'GARIYABAND', 'JANJGIR-CHAMPA', 'JASHPUR',\n",
              "       'KABIRDHAM', 'KANKER', 'KONDAGAON', 'KORBA', 'KOREA', 'MAHASAMUND',\n",
              "       'MUNGELI', 'NARAYANPUR', 'RAIGARH', 'RAIPUR', 'RAJNANDGAON',\n",
              "       'SUKMA', 'SURAJPUR', 'SURGUJA', 'DADRA AND NAGAR HAVELI',\n",
              "       'NORTH GOA', 'SOUTH GOA', 'AHMADABAD', 'AMRELI', 'ANAND',\n",
              "       'BANAS KANTHA', 'BHARUCH', 'BHAVNAGAR', 'DANG', 'DOHAD',\n",
              "       'GANDHINAGAR', 'JAMNAGAR', 'JUNAGADH', 'KACHCHH', 'KHEDA',\n",
              "       'MAHESANA', 'NARMADA', 'NAVSARI', 'PANCH MAHALS', 'PATAN',\n",
              "       'PORBANDAR', 'RAJKOT', 'SABAR KANTHA', 'SURAT', 'SURENDRANAGAR',\n",
              "       'TAPI', 'VADODARA', 'VALSAD', 'AMBALA', 'BHIWANI', 'FARIDABAD',\n",
              "       'FATEHABAD', 'GURGAON', 'HISAR', 'JHAJJAR', 'JIND', 'KAITHAL',\n",
              "       'KARNAL', 'KURUKSHETRA', 'MAHENDRAGARH', 'MEWAT', 'PALWAL',\n",
              "       'PANCHKULA', 'PANIPAT', 'REWARI', 'ROHTAK', 'SIRSA', 'SONIPAT',\n",
              "       'YAMUNANAGAR', 'CHAMBA', 'HAMIRPUR', 'KANGRA', 'KINNAUR', 'KULLU',\n",
              "       'LAHUL AND SPITI', 'MANDI', 'SHIMLA', 'SIRMAUR', 'SOLAN', 'UNA',\n",
              "       'ANANTNAG', 'BADGAM', 'BANDIPORA', 'BARAMULLA', 'DODA',\n",
              "       'GANDERBAL', 'JAMMU', 'KARGIL', 'KATHUA', 'KISHTWAR', 'KULGAM',\n",
              "       'KUPWARA', 'LEH LADAKH', 'POONCH', 'PULWAMA', 'RAJAURI', 'RAMBAN',\n",
              "       'REASI', 'SAMBA', 'SHOPIAN', 'SRINAGAR', 'UDHAMPUR', 'BOKARO',\n",
              "       'CHATRA', 'DEOGHAR', 'DHANBAD', 'DUMKA', 'EAST SINGHBUM', 'GARHWA',\n",
              "       'GIRIDIH', 'GODDA', 'GUMLA', 'HAZARIBAGH', 'JAMTARA', 'KHUNTI',\n",
              "       'KODERMA', 'LATEHAR', 'LOHARDAGA', 'PAKUR', 'PALAMU', 'RAMGARH',\n",
              "       'RANCHI', 'SAHEBGANJ', 'SARAIKELA KHARSAWAN', 'SIMDEGA',\n",
              "       'WEST SINGHBHUM', 'BAGALKOT', 'BANGALORE RURAL', 'BELGAUM',\n",
              "       'BELLARY', 'BENGALURU URBAN', 'BIDAR', 'CHAMARAJANAGAR',\n",
              "       'CHIKBALLAPUR', 'CHIKMAGALUR', 'CHITRADURGA', 'DAKSHIN KANNAD',\n",
              "       'DAVANGERE', 'DHARWAD', 'GADAG', 'GULBARGA', 'HASSAN', 'HAVERI',\n",
              "       'KODAGU', 'KOLAR', 'KOPPAL', 'MANDYA', 'MYSORE', 'RAICHUR',\n",
              "       'RAMANAGARA', 'SHIMOGA', 'TUMKUR', 'UDUPI', 'UTTAR KANNAD',\n",
              "       'YADGIR', 'ALAPPUZHA', 'ERNAKULAM', 'IDUKKI', 'KANNUR',\n",
              "       'KASARAGOD', 'KOLLAM', 'KOTTAYAM', 'KOZHIKODE', 'MALAPPURAM',\n",
              "       'PALAKKAD', 'PATHANAMTHITTA', 'THIRUVANANTHAPURAM', 'THRISSUR',\n",
              "       'WAYANAD', 'AGAR MALWA', 'ALIRAJPUR', 'ANUPPUR', 'ASHOKNAGAR',\n",
              "       'BALAGHAT', 'BARWANI', 'BETUL', 'BHIND', 'BHOPAL', 'BURHANPUR',\n",
              "       'CHHATARPUR', 'CHHINDWARA', 'DAMOH', 'DATIA', 'DEWAS', 'DHAR',\n",
              "       'DINDORI', 'GUNA', 'GWALIOR', 'HARDA', 'HOSHANGABAD', 'INDORE',\n",
              "       'JABALPUR', 'JHABUA', 'KATNI', 'KHANDWA', 'KHARGONE', 'MANDLA',\n",
              "       'MANDSAUR', 'MORENA', 'NARSINGHPUR', 'NEEMUCH', 'PANNA', 'RAISEN',\n",
              "       'RAJGARH', 'RATLAM', 'REWA', 'SAGAR', 'SATNA', 'SEHORE', 'SEONI',\n",
              "       'SHAHDOL', 'SHAJAPUR', 'SHEOPUR', 'SHIVPURI', 'SIDHI', 'SINGRAULI',\n",
              "       'TIKAMGARH', 'UJJAIN', 'UMARIA', 'VIDISHA', 'AHMEDNAGAR', 'AKOLA',\n",
              "       'AMRAVATI', 'BEED', 'BHANDARA', 'BULDHANA', 'CHANDRAPUR', 'DHULE',\n",
              "       'GADCHIROLI', 'GONDIA', 'HINGOLI', 'JALGAON', 'JALNA', 'KOLHAPUR',\n",
              "       'LATUR', 'MUMBAI', 'NAGPUR', 'NANDED', 'NANDURBAR', 'NASHIK',\n",
              "       'OSMANABAD', 'PALGHAR', 'PARBHANI', 'PUNE', 'RAIGAD', 'RATNAGIRI',\n",
              "       'SANGLI', 'SATARA', 'SINDHUDURG', 'SOLAPUR', 'THANE', 'WARDHA',\n",
              "       'WASHIM', 'YAVATMAL', 'BISHNUPUR', 'CHANDEL', 'CHURACHANDPUR',\n",
              "       'IMPHAL EAST', 'IMPHAL WEST', 'SENAPATI', 'TAMENGLONG', 'THOUBAL',\n",
              "       'UKHRUL', 'EAST GARO HILLS', 'EAST JAINTIA HILLS',\n",
              "       'EAST KHASI HILLS', 'NORTH GARO HILLS', 'RI BHOI',\n",
              "       'SOUTH GARO HILLS', 'SOUTH WEST GARO HILLS',\n",
              "       'SOUTH WEST KHASI HILLS', 'WEST GARO HILLS', 'WEST JAINTIA HILLS',\n",
              "       'WEST KHASI HILLS', 'AIZAWL', 'CHAMPHAI', 'KOLASIB', 'LAWNGTLAI',\n",
              "       'LUNGLEI', 'MAMIT', 'SAIHA', 'SERCHHIP', 'DIMAPUR', 'KIPHIRE',\n",
              "       'KOHIMA', 'LONGLENG', 'MOKOKCHUNG', 'MON', 'PEREN', 'PHEK',\n",
              "       'TUENSANG', 'WOKHA', 'ZUNHEBOTO', 'ANUGUL', 'BALANGIR',\n",
              "       'BALESHWAR', 'BARGARH', 'BHADRAK', 'BOUDH', 'CUTTACK', 'DEOGARH',\n",
              "       'DHENKANAL', 'GAJAPATI', 'GANJAM', 'JAGATSINGHAPUR', 'JAJAPUR',\n",
              "       'JHARSUGUDA', 'KALAHANDI', 'KANDHAMAL', 'KENDRAPARA', 'KENDUJHAR',\n",
              "       'KHORDHA', 'KORAPUT', 'MALKANGIRI', 'MAYURBHANJ', 'NABARANGPUR',\n",
              "       'NAYAGARH', 'NUAPADA', 'PURI', 'RAYAGADA', 'SAMBALPUR', 'SONEPUR',\n",
              "       'SUNDARGARH', 'KARAIKAL', 'MAHE', 'PONDICHERRY', 'YANAM',\n",
              "       'AMRITSAR', 'BARNALA', 'BATHINDA', 'FARIDKOT', 'FATEHGARH SAHIB',\n",
              "       'FAZILKA', 'FIROZEPUR', 'GURDASPUR', 'HOSHIARPUR', 'JALANDHAR',\n",
              "       'KAPURTHALA', 'LUDHIANA', 'MANSA', 'MOGA', 'MUKTSAR', 'NAWANSHAHR',\n",
              "       'PATHANKOT', 'PATIALA', 'RUPNAGAR', 'S.A.S NAGAR', 'SANGRUR',\n",
              "       'TARN TARAN', 'AJMER', 'ALWAR', 'BANSWARA', 'BARAN', 'BARMER',\n",
              "       'BHARATPUR', 'BHILWARA', 'BIKANER', 'BUNDI', 'CHITTORGARH',\n",
              "       'CHURU', 'DAUSA', 'DHOLPUR', 'DUNGARPUR', 'GANGANAGAR',\n",
              "       'HANUMANGARH', 'JAIPUR', 'JAISALMER', 'JALORE', 'JHALAWAR',\n",
              "       'JHUNJHUNU', 'JODHPUR', 'KARAULI', 'KOTA', 'NAGAUR', 'PALI',\n",
              "       'PRATAPGARH', 'RAJSAMAND', 'SAWAI MADHOPUR', 'SIKAR', 'SIROHI',\n",
              "       'TONK', 'UDAIPUR', 'EAST DISTRICT', 'NORTH DISTRICT',\n",
              "       'SOUTH DISTRICT', 'WEST DISTRICT', 'ARIYALUR', 'COIMBATORE',\n",
              "       'CUDDALORE', 'DHARMAPURI', 'DINDIGUL', 'ERODE', 'KANCHIPURAM',\n",
              "       'KANNIYAKUMARI', 'KARUR', 'KRISHNAGIRI', 'MADURAI', 'NAGAPATTINAM',\n",
              "       'NAMAKKAL', 'PERAMBALUR', 'PUDUKKOTTAI', 'RAMANATHAPURAM', 'SALEM',\n",
              "       'SIVAGANGA', 'THANJAVUR', 'THE NILGIRIS', 'THENI', 'THIRUVALLUR',\n",
              "       'THIRUVARUR', 'TIRUCHIRAPPALLI', 'TIRUNELVELI', 'TIRUPPUR',\n",
              "       'TIRUVANNAMALAI', 'TUTICORIN', 'VELLORE', 'VILLUPURAM',\n",
              "       'VIRUDHUNAGAR', 'ADILABAD', 'HYDERABAD', 'KARIMNAGAR', 'KHAMMAM',\n",
              "       'MAHBUBNAGAR', 'MEDAK', 'NALGONDA', 'NIZAMABAD', 'RANGAREDDI',\n",
              "       'WARANGAL', 'DHALAI', 'GOMATI', 'KHOWAI', 'NORTH TRIPURA',\n",
              "       'SEPAHIJALA', 'SOUTH TRIPURA', 'UNAKOTI', 'WEST TRIPURA', 'AGRA',\n",
              "       'ALIGARH', 'ALLAHABAD', 'AMBEDKAR NAGAR', 'AMETHI', 'AMROHA',\n",
              "       'AURAIYA', 'AZAMGARH', 'BAGHPAT', 'BAHRAICH', 'BALLIA', 'BANDA',\n",
              "       'BARABANKI', 'BAREILLY', 'BASTI', 'BIJNOR', 'BUDAUN',\n",
              "       'BULANDSHAHR', 'CHANDAULI', 'CHITRAKOOT', 'DEORIA', 'ETAH',\n",
              "       'ETAWAH', 'FAIZABAD', 'FARRUKHABAD', 'FATEHPUR', 'FIROZABAD',\n",
              "       'GAUTAM BUDDHA NAGAR', 'GHAZIABAD', 'GHAZIPUR', 'GONDA',\n",
              "       'GORAKHPUR', 'HAPUR', 'HARDOI', 'HATHRAS', 'JALAUN', 'JAUNPUR',\n",
              "       'JHANSI', 'KANNAUJ', 'KANPUR DEHAT', 'KANPUR NAGAR', 'KASGANJ',\n",
              "       'KAUSHAMBI', 'KHERI', 'KUSHI NAGAR', 'LALITPUR', 'LUCKNOW',\n",
              "       'MAHARAJGANJ', 'MAHOBA', 'MAINPURI', 'MATHURA', 'MAU', 'MEERUT',\n",
              "       'MIRZAPUR', 'MORADABAD', 'MUZAFFARNAGAR', 'PILIBHIT', 'RAE BARELI',\n",
              "       'RAMPUR', 'SAHARANPUR', 'SAMBHAL', 'SANT KABEER NAGAR',\n",
              "       'SANT RAVIDAS NAGAR', 'SHAHJAHANPUR', 'SHAMLI', 'SHRAVASTI',\n",
              "       'SIDDHARTH NAGAR', 'SITAPUR', 'SONBHADRA', 'SULTANPUR', 'UNNAO',\n",
              "       'VARANASI', 'ALMORA', 'BAGESHWAR', 'CHAMOLI', 'CHAMPAWAT',\n",
              "       'DEHRADUN', 'HARIDWAR', 'NAINITAL', 'PAURI GARHWAL', 'PITHORAGARH',\n",
              "       'RUDRA PRAYAG', 'TEHRI GARHWAL', 'UDAM SINGH NAGAR', 'UTTAR KASHI',\n",
              "       '24 PARAGANAS NORTH', '24 PARAGANAS SOUTH', 'BANKURA', 'BARDHAMAN',\n",
              "       'BIRBHUM', 'COOCHBEHAR', 'DARJEELING', 'DINAJPUR DAKSHIN',\n",
              "       'DINAJPUR UTTAR', 'HOOGHLY', 'HOWRAH', 'JALPAIGURI', 'MALDAH',\n",
              "       'MEDINIPUR EAST', 'MEDINIPUR WEST', 'MURSHIDABAD', 'NADIA',\n",
              "       'PURULIA'], dtype=object)"
            ]
          },
          "metadata": {
            "tags": []
          },
          "execution_count": 17
        }
      ]
    },
    {
      "cell_type": "code",
      "metadata": {
        "id": "pQB4VEF-tveA",
        "outputId": "626a06ee-4556-4dad-f97e-c46a2737ef91",
        "colab": {
          "base_uri": "https://localhost:8080/",
          "height": 51
        }
      },
      "source": [
        "#Displaying unique values present in Season of dataset1\n",
        "dataset1['Season'].unique()"
      ],
      "execution_count": 18,
      "outputs": [
        {
          "output_type": "execute_result",
          "data": {
            "text/plain": [
              "array(['Kharif     ', 'Whole Year ', 'Autumn     ', 'Rabi       ',\n",
              "       'Summer     ', 'Winter     '], dtype=object)"
            ]
          },
          "metadata": {
            "tags": []
          },
          "execution_count": 18
        }
      ]
    },
    {
      "cell_type": "markdown",
      "metadata": {
        "id": "gz5opOYFY2l7"
      },
      "source": [
        "####**Unique columns of dataset1 are:**\n",
        "1. Kharif\n",
        "2. Whole Year\n",
        "3. Autumn\n",
        "4. Rabi\n",
        "5. Summer\n",
        "6. Winter\n"
      ]
    },
    {
      "cell_type": "code",
      "metadata": {
        "id": "GKM3sfYvt26G",
        "outputId": "8ef3ce4e-32f9-4110-b804-b614b19e16fa",
        "colab": {
          "base_uri": "https://localhost:8080/",
          "height": 51
        }
      },
      "source": [
        "#Displaying unique values present in Crop_Year of dataset1\n",
        "dataset1['Crop_Year'].unique()"
      ],
      "execution_count": 19,
      "outputs": [
        {
          "output_type": "execute_result",
          "data": {
            "text/plain": [
              "array([2000, 2001, 2002, 2003, 2004, 2005, 2006, 2010, 1997, 1998, 1999,\n",
              "       2007, 2008, 2009, 2011, 2012, 2013, 2014, 2015])"
            ]
          },
          "metadata": {
            "tags": []
          },
          "execution_count": 19
        }
      ]
    },
    {
      "cell_type": "markdown",
      "metadata": {
        "id": "LZLUO_4FaAuQ"
      },
      "source": [
        "#### Dataset1 consists of unique values of year values from '2000 - 2015.'"
      ]
    },
    {
      "cell_type": "code",
      "metadata": {
        "id": "ZkCbEhyvt6X0",
        "outputId": "d41c9130-d673-4b5d-c0d3-ef8dcbeb521c",
        "colab": {
          "base_uri": "https://localhost:8080/",
          "height": 476
        }
      },
      "source": [
        "#Displaying unique values present in Crop of dataset1\n",
        "dataset1['Crop'].unique()"
      ],
      "execution_count": 20,
      "outputs": [
        {
          "output_type": "execute_result",
          "data": {
            "text/plain": [
              "array(['Arecanut', 'Other Kharif pulses', 'Rice', 'Banana', 'Cashewnut',\n",
              "       'Coconut ', 'Dry ginger', 'Sugarcane', 'Sweet potato', 'Tapioca',\n",
              "       'Black pepper', 'Dry chillies', 'other oilseeds', 'Turmeric',\n",
              "       'Maize', 'Moong(Green Gram)', 'Urad', 'Arhar/Tur', 'Groundnut',\n",
              "       'Sunflower', 'Bajra', 'Castor seed', 'Cotton(lint)', 'Horse-gram',\n",
              "       'Jowar', 'Korra', 'Ragi', 'Tobacco', 'Gram', 'Wheat', 'Masoor',\n",
              "       'Sesamum', 'Linseed', 'Safflower', 'Onion', 'other misc. pulses',\n",
              "       'Samai', 'Small millets', 'Coriander', 'Potato',\n",
              "       'Other  Rabi pulses', 'Soyabean', 'Beans & Mutter(Vegetable)',\n",
              "       'Bhindi', 'Brinjal', 'Citrus Fruit', 'Cucumber', 'Grapes', 'Mango',\n",
              "       'Orange', 'other fibres', 'Other Fresh Fruits', 'Other Vegetables',\n",
              "       'Papaya', 'Pome Fruit', 'Tomato', 'Rapeseed &Mustard', 'Mesta',\n",
              "       'Cowpea(Lobia)', 'Lemon', 'Pome Granet', 'Sapota', 'Cabbage',\n",
              "       'Peas  (vegetable)', 'Niger seed', 'Bottle Gourd', 'Sannhamp',\n",
              "       'Varagu', 'Garlic', 'Ginger', 'Oilseeds total', 'Pulses total',\n",
              "       'Jute', 'Peas & beans (Pulses)', 'Blackgram', 'Paddy', 'Pineapple',\n",
              "       'Barley', 'Khesari', 'Guar seed', 'Moth',\n",
              "       'Other Cereals & Millets', 'Cond-spcs other', 'Turnip', 'Carrot',\n",
              "       'Redish', 'Arcanut (Processed)', 'Atcanut (Raw)',\n",
              "       'Cashewnut Processed', 'Cashewnut Raw', 'Cardamom', 'Rubber',\n",
              "       'Bitter Gourd', 'Drum Stick', 'Jack Fruit', 'Snak Guard',\n",
              "       'Pump Kin', 'Tea', 'Coffee', 'Cauliflower', 'Other Citrus Fruit',\n",
              "       'Water Melon', 'Total foodgrain', 'Kapas', 'Colocosia', 'Lentil',\n",
              "       'Bean', 'Jobster', 'Perilla', 'Rajmash Kholar',\n",
              "       'Ricebean (nagadal)', 'Ash Gourd', 'Beet Root', 'Lab-Lab',\n",
              "       'Ribed Guard', 'Yam', 'Apple', 'Peach', 'Pear', 'Plums', 'Litchi',\n",
              "       'Ber', 'Other Dry Fruit', 'Jute & mesta'], dtype=object)"
            ]
          },
          "metadata": {
            "tags": []
          },
          "execution_count": 20
        }
      ]
    },
    {
      "cell_type": "code",
      "metadata": {
        "id": "MkjzTck3t-Xn"
      },
      "source": [
        "#Defining functions to calculate average temperatures for every season.\n",
        "def weather_kharif(year):\n",
        "    a1= dataset2[((dataset2['YEAR'] == year))]\n",
        "    a_a = a1[['YEAR','JUL','AUG','SEP','OCT']]\n",
        "    print(\"Weather in the Kharif Season : \\n \",a_a)\n",
        "    b1 = a_a[['JUL','AUG','SEP','OCT']].iloc[:,:].mean(axis=1)\n",
        "    print(\"--------------------------------------------\\n Average temperature of Kharif season is : \\n\",b1)\n",
        "    print(\"-\"*100)\n",
        "def weather_rabi(year):\n",
        "    a1= dataset2[((dataset2['YEAR'] == year))]\n",
        "    a_a = a1[['YEAR','OCT','NOV','DEC','JAN','FEB','MAR']]\n",
        "    print(\"Weather in the Rabi Season : \\n \",a_a)\n",
        "    b1 = a_a[['OCT','NOV','DEC','JAN','FEB','MAR']].iloc[:,:].mean(axis=1)\n",
        "    print(\"--------------------------------------------\\n Average temperature of Rabi season is : \\n\",b1)\n",
        "    print(\"-\"*100)\n",
        "def weather_summer(year):\n",
        "    a1= dataset2[((dataset2['YEAR'] == year))]\n",
        "    a_a = a1[['YEAR','MAR','APR','MAY','JUN']]\n",
        "    print(\"Weather in the Summer Season : \\n \",a_a)\n",
        "    b1 = a_a[['MAR','APR','MAY','JUN']].iloc[:,:].mean(axis=1)\n",
        "    print(\"--------------------------------------------\\n Average temperature of Summer season is : \\n\",b1)\n",
        "    print(\"-\"*100)\n",
        "def weather_autumn(year):\n",
        "    a1= dataset2[((dataset2['YEAR'] == year))]\n",
        "    a_a = a1[['YEAR','SEP','OCT']]\n",
        "    print(\"Weather in the Autumn Season : \\n \",a_a)\n",
        "    b1 = a_a[['SEP','OCT']].iloc[:,:].mean(axis=1)\n",
        "    print(\"--------------------------------------------\\n Average temperature of Autumn season is : \\n\",b1)\n",
        "    print(\"-\"*100)\n",
        "def weather_winter(year):\n",
        "    a1= dataset2[((dataset2['YEAR'] == year))]\n",
        "    a_a = a1[['YEAR','DEC','JAN']]\n",
        "    print(\"Weather in the Winter Season : \\n \",a_a)\n",
        "    b1 = a_a[['DEC','JAN']].iloc[:,:].mean(axis=1)\n",
        "    print(\"--------------------------------------------\\n Average temperature of Winter season is : \\n\",b1)\n",
        "    print(\"-\"*100)\n",
        "def weather_whole(year):\n",
        "    a1= dataset2[((dataset2['YEAR'] == year))]\n",
        "    print(\"Weather in the Whole Year : \\n \",a1)\n",
        "    b1 = a1[['JAN','FEB','MAR','APR','MAY','JUN','JUL','AUG','SEP','OCT','NOV','DEC']].iloc[:,:].mean(axis=1)\n",
        "    print(\"--------------------------------------------\\n Average temperature of Whole Year is : \\n\",b1)\n",
        "    print(\"-\"*100)   \n",
        "\n",
        "\n"
      ],
      "execution_count": 21,
      "outputs": []
    },
    {
      "cell_type": "markdown",
      "metadata": {
        "id": "UY0y3aMakHsj"
      },
      "source": [
        "# Question 1: In the same year 1997, which crop is grown in how many states?"
      ]
    },
    {
      "cell_type": "code",
      "metadata": {
        "id": "PUfuxvILkKoX"
      },
      "source": [
        "#Defining a function to obtain result of similar crop grown in different states.\n",
        "def crop(cropNames):\n",
        "    total1=[]\n",
        "    for i in range(len(cropNames)):\n",
        "        cropstate = dataset1[(dataset1['Crop_Year'] == 1997) & (dataset1['Crop'] == cropNames[i])] \n",
        "        print(cropstate['State_Name'].unique())\n",
        "        print(cropstate['Season'].unique())\n",
        "        print(\"Count of states having same yeild - \",len(cropstate['State_Name'].unique()))\n",
        "        total1.append(len(cropstate['State_Name'].unique())) \n",
        "        print(total1)\n",
        "    return total1"
      ],
      "execution_count": 22,
      "outputs": []
    },
    {
      "cell_type": "code",
      "metadata": {
        "id": "FbHYIu4jkQLW",
        "outputId": "baee4e85-6bc4-4dea-b892-d6d64847838d",
        "colab": {
          "base_uri": "https://localhost:8080/",
          "height": 1000
        }
      },
      "source": [
        "cropList = ['Arhar/Tur''Bajra','Castor seed','Cotton(lint)','Dry chillies',\n",
        " 'Groundnut','Horse-gram','Jowar','Korra','Maize','Moong(Green Gram)',\n",
        " 'Other Kharif pulses','Ragi','Rice','Sugarcane','Sunflower','Tobacco',\n",
        " 'Gram','Wheat','Samai','Sesamum','Urad','Small millets','Varagu','Mesta',\n",
        " 'Soyabean','Rapeseed &Mustard','Oilseeds total','Jute','Linseed',\n",
        " 'Other  Rabi pulses','Arecanut','Coconut ','Niger seed','Onion','Potato',\n",
        " 'Sweet potato','Tapioca','Turmeric','Dry ginger','Barley','Banana',\n",
        " 'Coriander','Garlic','Sannhamp','Safflower','Moth','Pulses total','Paddy',\n",
        " 'Black pepper','Cardamom','Cashewnut','Total foodgrain','Kapas',\n",
        " 'Peas & beans (Pulses)','Masoor','Khesari']\n",
        "cropoutput = crop(cropList)"
      ],
      "execution_count": 23,
      "outputs": [
        {
          "output_type": "stream",
          "text": [
            "[]\n",
            "[]\n",
            "Count of states having same yeild -  0\n",
            "[0]\n",
            "['Andhra Pradesh' 'Assam' 'Bihar' 'Gujarat' 'Meghalaya' 'Rajasthan'\n",
            " 'Tamil Nadu' 'Telangana ' 'Uttar Pradesh' 'West Bengal']\n",
            "['Kharif     ' 'Whole Year ' 'Rabi       ']\n",
            "Count of states having same yeild -  10\n",
            "[0, 10]\n",
            "['Andhra Pradesh' 'Assam' 'Bihar' 'Gujarat' 'Haryana' 'Madhya Pradesh'\n",
            " 'Maharashtra' 'Meghalaya' 'Punjab' 'Rajasthan' 'Tamil Nadu' 'Telangana '\n",
            " 'West Bengal']\n",
            "['Kharif     ' 'Whole Year ']\n",
            "Count of states having same yeild -  13\n",
            "[0, 10, 13]\n",
            "['Andhra Pradesh' 'Assam' 'Bihar' 'Gujarat' 'Karnataka' 'Manipur'\n",
            " 'Meghalaya' 'Tamil Nadu' 'Telangana ' 'West Bengal']\n",
            "['Kharif     ' 'Rabi       ' 'Whole Year ']\n",
            "Count of states having same yeild -  10\n",
            "[0, 10, 13, 10]\n",
            "['Andhra Pradesh' 'Arunachal Pradesh' 'Bihar' 'Goa' 'Gujarat' 'Karnataka'\n",
            " 'Madhya Pradesh' 'Mizoram' 'Odisha' 'Punjab' 'Rajasthan' 'Tamil Nadu'\n",
            " 'Telangana ' 'Uttar Pradesh' 'West Bengal']\n",
            "['Kharif     ' 'Rabi       ' 'Summer     ' 'Autumn     ' 'Winter     '\n",
            " 'Whole Year ']\n",
            "Count of states having same yeild -  15\n",
            "[0, 10, 13, 10, 15]\n",
            "['Andhra Pradesh' 'Karnataka' 'Odisha' 'Tamil Nadu' 'Telangana '\n",
            " 'West Bengal']\n",
            "['Kharif     ' 'Rabi       ' 'Winter     ' 'Summer     ']\n",
            "Count of states having same yeild -  6\n",
            "[0, 10, 13, 10, 15, 6]\n",
            "['Andhra Pradesh' 'Bihar' 'Gujarat' 'Haryana' 'Karnataka' 'Madhya Pradesh'\n",
            " 'Maharashtra' 'Nagaland' 'Rajasthan' 'Tamil Nadu' 'Telangana '\n",
            " 'Uttar Pradesh' 'West Bengal']\n",
            "['Kharif     ' 'Rabi       ' 'Summer     ' 'Whole Year ']\n",
            "Count of states having same yeild -  13\n",
            "[0, 10, 13, 10, 15, 6, 13]\n",
            "['Andhra Pradesh' 'Telangana ']\n",
            "['Kharif     ' 'Rabi       ']\n",
            "Count of states having same yeild -  2\n",
            "[0, 10, 13, 10, 15, 6, 13, 2]\n",
            "['Andhra Pradesh' 'Arunachal Pradesh' 'Assam' 'Bihar' 'Gujarat' 'Haryana'\n",
            " 'Jammu and Kashmir ' 'Karnataka' 'Madhya Pradesh' 'Maharashtra' 'Manipur'\n",
            " 'Meghalaya' 'Mizoram' 'Nagaland' 'Odisha' 'Punjab' 'Rajasthan'\n",
            " 'Tamil Nadu' 'Telangana ' 'Uttar Pradesh' 'West Bengal']\n",
            "['Kharif     ' 'Rabi       ' 'Summer     ' 'Whole Year ' 'Autumn     '\n",
            " 'Winter     ']\n",
            "Count of states having same yeild -  21\n",
            "[0, 10, 13, 10, 15, 6, 13, 2, 21]\n",
            "['Andhra Pradesh' 'Gujarat' 'Maharashtra' 'Punjab' 'Tamil Nadu'\n",
            " 'Telangana ' 'Uttar Pradesh' 'West Bengal']\n",
            "['Kharif     ' 'Rabi       ' 'Whole Year ' 'Summer     ']\n",
            "Count of states having same yeild -  8\n",
            "[0, 10, 13, 10, 15, 6, 13, 2, 21, 8]\n",
            "['Andhra Pradesh' 'Bihar' 'Goa' 'Gujarat' 'Haryana' 'Manipur' 'Telangana '\n",
            " 'West Bengal']\n",
            "['Kharif     ']\n",
            "Count of states having same yeild -  8\n",
            "[0, 10, 13, 10, 15, 6, 13, 2, 21, 8, 8]\n",
            "['Andhra Pradesh' 'Bihar' 'Goa' 'Gujarat' 'Karnataka' 'Maharashtra'\n",
            " 'Odisha' 'Tamil Nadu' 'Telangana ' 'West Bengal']\n",
            "['Kharif     ' 'Rabi       ' 'Whole Year ' 'Summer     ' 'Autumn     '\n",
            " 'Winter     ']\n",
            "Count of states having same yeild -  10\n",
            "[0, 10, 13, 10, 15, 6, 13, 2, 21, 8, 8, 10]\n",
            "['Andhra Pradesh' 'Arunachal Pradesh' 'Assam' 'Bihar' 'Goa' 'Gujarat'\n",
            " 'Haryana' 'Jammu and Kashmir ' 'Karnataka' 'Maharashtra' 'Manipur'\n",
            " 'Meghalaya' 'Mizoram' 'Nagaland' 'Punjab' 'Rajasthan' 'Tamil Nadu'\n",
            " 'Telangana ' 'Uttar Pradesh' 'West Bengal']\n",
            "['Kharif     ' 'Rabi       ' 'Autumn     ' 'Summer     ' 'Winter     '\n",
            " 'Whole Year ']\n",
            "Count of states having same yeild -  20\n",
            "[0, 10, 13, 10, 15, 6, 13, 2, 21, 8, 8, 10, 20]\n",
            "['Andhra Pradesh' 'Arunachal Pradesh' 'Assam' 'Bihar' 'Gujarat' 'Haryana'\n",
            " 'Karnataka' 'Maharashtra' 'Manipur' 'Meghalaya' 'Mizoram' 'Odisha'\n",
            " 'Punjab' 'Rajasthan' 'Tamil Nadu' 'Telangana ' 'Uttar Pradesh'\n",
            " 'West Bengal']\n",
            "['Kharif     ' 'Rabi       ' 'Whole Year ' 'Winter     ']\n",
            "Count of states having same yeild -  18\n",
            "[0, 10, 13, 10, 15, 6, 13, 2, 21, 8, 8, 10, 20, 18]\n",
            "['Andhra Pradesh' 'Arunachal Pradesh' 'Bihar' 'Madhya Pradesh' 'Mizoram'\n",
            " 'Tamil Nadu' 'Telangana ' 'Uttar Pradesh' 'West Bengal']\n",
            "['Kharif     ' 'Rabi       ' 'Whole Year ']\n",
            "Count of states having same yeild -  9\n",
            "[0, 10, 13, 10, 15, 6, 13, 2, 21, 8, 8, 10, 20, 18, 9]\n",
            "['Andhra Pradesh' 'Assam' 'Bihar' 'Gujarat' 'Meghalaya' 'Mizoram'\n",
            " 'Tamil Nadu' 'Telangana ']\n",
            "['Kharif     ' 'Whole Year ' 'Rabi       ']\n",
            "Count of states having same yeild -  8\n",
            "[0, 10, 13, 10, 15, 6, 13, 2, 21, 8, 8, 10, 20, 18, 9, 8]\n",
            "['Andhra Pradesh' 'Assam' 'Bihar' 'Gujarat' 'Haryana' 'Maharashtra'\n",
            " 'Meghalaya' 'Punjab' 'Rajasthan' 'Tamil Nadu' 'Telangana '\n",
            " 'Uttar Pradesh' 'West Bengal']\n",
            "['Rabi       ' 'Kharif     ' 'Whole Year ']\n",
            "Count of states having same yeild -  13\n",
            "[0, 10, 13, 10, 15, 6, 13, 2, 21, 8, 8, 10, 20, 18, 9, 8, 13]\n",
            "['Andhra Pradesh' 'Arunachal Pradesh' 'Assam' 'Bihar' 'Gujarat' 'Haryana'\n",
            " 'Jammu and Kashmir ' 'Karnataka' 'Madhya Pradesh' 'Maharashtra'\n",
            " 'Meghalaya' 'Mizoram' 'Odisha' 'Punjab' 'Rajasthan' 'Telangana '\n",
            " 'Uttar Pradesh' 'West Bengal']\n",
            "['Rabi       ']\n",
            "Count of states having same yeild -  18\n",
            "[0, 10, 13, 10, 15, 6, 13, 2, 21, 8, 8, 10, 20, 18, 9, 8, 13, 18]\n",
            "['Andhra Pradesh' 'Telangana ']\n",
            "['Kharif     ']\n",
            "Count of states having same yeild -  2\n",
            "[0, 10, 13, 10, 15, 6, 13, 2, 21, 8, 8, 10, 20, 18, 9, 8, 13, 18, 2]\n",
            "['Andhra Pradesh' 'Arunachal Pradesh' 'Assam' 'Bihar' 'Gujarat'\n",
            " 'Madhya Pradesh' 'Meghalaya' 'Mizoram' 'Odisha' 'Punjab' 'Rajasthan'\n",
            " 'Tamil Nadu' 'Telangana ' 'Uttar Pradesh' 'West Bengal']\n",
            "['Kharif     ' 'Rabi       ' 'Whole Year ' 'Autumn     ' 'Summer     '\n",
            " 'Winter     ']\n",
            "Count of states having same yeild -  15\n",
            "[0, 10, 13, 10, 15, 6, 13, 2, 21, 8, 8, 10, 20, 18, 9, 8, 13, 18, 2, 15]\n",
            "['Andhra Pradesh' 'Gujarat' 'Maharashtra' 'Odisha' 'Punjab' 'Tamil Nadu'\n",
            " 'Telangana ' 'Uttar Pradesh' 'West Bengal']\n",
            "['Rabi       ' 'Kharif     ' 'Autumn     ' 'Summer     ' 'Winter     '\n",
            " 'Whole Year ']\n",
            "Count of states having same yeild -  9\n",
            "[0, 10, 13, 10, 15, 6, 13, 2, 21, 8, 8, 10, 20, 18, 9, 8, 13, 18, 2, 15, 9]\n",
            "['Andhra Pradesh' 'Arunachal Pradesh' 'Assam' 'Bihar' 'Gujarat'\n",
            " 'Madhya Pradesh' 'Meghalaya' 'Tamil Nadu' 'Telangana ' 'Uttar Pradesh'\n",
            " 'West Bengal']\n",
            "['Kharif     ' 'Whole Year ' 'Rabi       ']\n",
            "Count of states having same yeild -  11\n",
            "[0, 10, 13, 10, 15, 6, 13, 2, 21, 8, 8, 10, 20, 18, 9, 8, 13, 18, 2, 15, 9, 11]\n",
            "['Andhra Pradesh']\n",
            "['Rabi       ']\n",
            "Count of states having same yeild -  1\n",
            "[0, 10, 13, 10, 15, 6, 13, 2, 21, 8, 8, 10, 20, 18, 9, 8, 13, 18, 2, 15, 9, 11, 1]\n",
            "['Andhra Pradesh' 'Assam' 'Bihar' 'Meghalaya' 'Telangana ' 'West Bengal']\n",
            "['Kharif     ']\n",
            "Count of states having same yeild -  6\n",
            "[0, 10, 13, 10, 15, 6, 13, 2, 21, 8, 8, 10, 20, 18, 9, 8, 13, 18, 2, 15, 9, 11, 1, 6]\n",
            "['Arunachal Pradesh' 'Madhya Pradesh' 'Manipur' 'Meghalaya' 'Mizoram'\n",
            " 'Rajasthan' 'Uttar Pradesh' 'West Bengal']\n",
            "['Kharif     ']\n",
            "Count of states having same yeild -  8\n",
            "[0, 10, 13, 10, 15, 6, 13, 2, 21, 8, 8, 10, 20, 18, 9, 8, 13, 18, 2, 15, 9, 11, 1, 6, 8]\n",
            "['Arunachal Pradesh' 'Assam' 'Bihar' 'Gujarat' 'Madhya Pradesh'\n",
            " 'Meghalaya' 'Mizoram' 'Punjab' 'Rajasthan' 'Tamil Nadu' 'Uttar Pradesh'\n",
            " 'West Bengal']\n",
            "['Rabi       ' 'Kharif     ' 'Whole Year ']\n",
            "Count of states having same yeild -  12\n",
            "[0, 10, 13, 10, 15, 6, 13, 2, 21, 8, 8, 10, 20, 18, 9, 8, 13, 18, 2, 15, 9, 11, 1, 6, 8, 12]\n",
            "['Arunachal Pradesh' 'Meghalaya' 'Uttar Pradesh' 'West Bengal']\n",
            "['Whole Year ' 'Kharif     ' 'Rabi       ']\n",
            "Count of states having same yeild -  4\n",
            "[0, 10, 13, 10, 15, 6, 13, 2, 21, 8, 8, 10, 20, 18, 9, 8, 13, 18, 2, 15, 9, 11, 1, 6, 8, 12, 4]\n",
            "['Assam' 'Bihar' 'Meghalaya' 'Odisha' 'West Bengal']\n",
            "['Kharif     ' 'Autumn     ']\n",
            "Count of states having same yeild -  5\n",
            "[0, 10, 13, 10, 15, 6, 13, 2, 21, 8, 8, 10, 20, 18, 9, 8, 13, 18, 2, 15, 9, 11, 1, 6, 8, 12, 4, 5]\n",
            "['Assam' 'Bihar' 'Madhya Pradesh' 'Meghalaya' 'Rajasthan' 'Uttar Pradesh'\n",
            " 'West Bengal']\n",
            "['Rabi       ' 'Kharif     ' 'Whole Year ']\n",
            "Count of states having same yeild -  7\n",
            "[0, 10, 13, 10, 15, 6, 13, 2, 21, 8, 8, 10, 20, 18, 9, 8, 13, 18, 2, 15, 9, 11, 1, 6, 8, 12, 4, 5, 7]\n",
            "['Assam' 'Bihar' 'Goa' 'Gujarat' 'Haryana' 'Maharashtra' 'Meghalaya'\n",
            " 'Telangana ']\n",
            "['Rabi       ']\n",
            "Count of states having same yeild -  8\n",
            "[0, 10, 13, 10, 15, 6, 13, 2, 21, 8, 8, 10, 20, 18, 9, 8, 13, 18, 2, 15, 9, 11, 1, 6, 8, 12, 4, 5, 7, 8]\n",
            "['Assam' 'Karnataka' 'Kerala' 'Meghalaya' 'West Bengal']\n",
            "['Whole Year ']\n",
            "Count of states having same yeild -  5\n",
            "[0, 10, 13, 10, 15, 6, 13, 2, 21, 8, 8, 10, 20, 18, 9, 8, 13, 18, 2, 15, 9, 11, 1, 6, 8, 12, 4, 5, 7, 8, 5]\n",
            "['Assam' 'Kerala' 'Mizoram' 'West Bengal']\n",
            "['Whole Year ' 'Kharif     ']\n",
            "Count of states having same yeild -  4\n",
            "[0, 10, 13, 10, 15, 6, 13, 2, 21, 8, 8, 10, 20, 18, 9, 8, 13, 18, 2, 15, 9, 11, 1, 6, 8, 12, 4, 5, 7, 8, 5, 4]\n",
            "['Assam' 'Bihar' 'West Bengal']\n",
            "['Whole Year ' 'Kharif     ']\n",
            "Count of states having same yeild -  3\n",
            "[0, 10, 13, 10, 15, 6, 13, 2, 21, 8, 8, 10, 20, 18, 9, 8, 13, 18, 2, 15, 9, 11, 1, 6, 8, 12, 4, 5, 7, 8, 5, 4, 3]\n",
            "['Assam' 'Bihar' 'Gujarat' 'Manipur' 'Rajasthan' 'Tamil Nadu'\n",
            " 'Uttar Pradesh']\n",
            "['Whole Year ' 'Kharif     ']\n",
            "Count of states having same yeild -  7\n",
            "[0, 10, 13, 10, 15, 6, 13, 2, 21, 8, 8, 10, 20, 18, 9, 8, 13, 18, 2, 15, 9, 11, 1, 6, 8, 12, 4, 5, 7, 8, 5, 4, 3, 7]\n",
            "['Assam' 'Bihar' 'Gujarat' 'Meghalaya' 'Odisha' 'Rajasthan' 'Tamil Nadu'\n",
            " 'Uttar Pradesh' 'West Bengal']\n",
            "['Whole Year ']\n",
            "Count of states having same yeild -  9\n",
            "[0, 10, 13, 10, 15, 6, 13, 2, 21, 8, 8, 10, 20, 18, 9, 8, 13, 18, 2, 15, 9, 11, 1, 6, 8, 12, 4, 5, 7, 8, 5, 4, 3, 7, 9]\n",
            "['Assam' 'Bihar' 'Meghalaya' 'Tamil Nadu']\n",
            "['Whole Year ']\n",
            "Count of states having same yeild -  4\n",
            "[0, 10, 13, 10, 15, 6, 13, 2, 21, 8, 8, 10, 20, 18, 9, 8, 13, 18, 2, 15, 9, 11, 1, 6, 8, 12, 4, 5, 7, 8, 5, 4, 3, 7, 9, 4]\n",
            "['Assam' 'Kerala' 'Meghalaya' 'Mizoram' 'Tamil Nadu']\n",
            "['Whole Year ']\n",
            "Count of states having same yeild -  5\n",
            "[0, 10, 13, 10, 15, 6, 13, 2, 21, 8, 8, 10, 20, 18, 9, 8, 13, 18, 2, 15, 9, 11, 1, 6, 8, 12, 4, 5, 7, 8, 5, 4, 3, 7, 9, 4, 5]\n",
            "['Assam' 'Bihar' 'Karnataka' 'Manipur' 'Meghalaya' 'Tamil Nadu'\n",
            " 'West Bengal']\n",
            "['Whole Year ']\n",
            "Count of states having same yeild -  7\n",
            "[0, 10, 13, 10, 15, 6, 13, 2, 21, 8, 8, 10, 20, 18, 9, 8, 13, 18, 2, 15, 9, 11, 1, 6, 8, 12, 4, 5, 7, 8, 5, 4, 3, 7, 9, 4, 5, 7]\n",
            "['Bihar' 'Karnataka' 'Meghalaya' 'Tamil Nadu']\n",
            "['Kharif     ' 'Whole Year ']\n",
            "Count of states having same yeild -  4\n",
            "[0, 10, 13, 10, 15, 6, 13, 2, 21, 8, 8, 10, 20, 18, 9, 8, 13, 18, 2, 15, 9, 11, 1, 6, 8, 12, 4, 5, 7, 8, 5, 4, 3, 7, 9, 4, 5, 7, 4]\n",
            "['Bihar' 'Haryana' 'Madhya Pradesh' 'Punjab' 'Rajasthan' 'Uttar Pradesh'\n",
            " 'West Bengal']\n",
            "['Rabi       ' 'Whole Year ']\n",
            "Count of states having same yeild -  7\n",
            "[0, 10, 13, 10, 15, 6, 13, 2, 21, 8, 8, 10, 20, 18, 9, 8, 13, 18, 2, 15, 9, 11, 1, 6, 8, 12, 4, 5, 7, 8, 5, 4, 3, 7, 9, 4, 5, 7, 4, 7]\n",
            "['Bihar' 'Gujarat' 'Manipur' 'Meghalaya' 'Tamil Nadu']\n",
            "['Whole Year ' 'Kharif     ']\n",
            "Count of states having same yeild -  5\n",
            "[0, 10, 13, 10, 15, 6, 13, 2, 21, 8, 8, 10, 20, 18, 9, 8, 13, 18, 2, 15, 9, 11, 1, 6, 8, 12, 4, 5, 7, 8, 5, 4, 3, 7, 9, 4, 5, 7, 4, 7, 5]\n",
            "['Bihar' 'Karnataka' 'Tamil Nadu']\n",
            "['Whole Year ']\n",
            "Count of states having same yeild -  3\n",
            "[0, 10, 13, 10, 15, 6, 13, 2, 21, 8, 8, 10, 20, 18, 9, 8, 13, 18, 2, 15, 9, 11, 1, 6, 8, 12, 4, 5, 7, 8, 5, 4, 3, 7, 9, 4, 5, 7, 4, 7, 5, 3]\n",
            "['Bihar' 'Gujarat' 'Karnataka' 'Tamil Nadu']\n",
            "['Whole Year ']\n",
            "Count of states having same yeild -  4\n",
            "[0, 10, 13, 10, 15, 6, 13, 2, 21, 8, 8, 10, 20, 18, 9, 8, 13, 18, 2, 15, 9, 11, 1, 6, 8, 12, 4, 5, 7, 8, 5, 4, 3, 7, 9, 4, 5, 7, 4, 7, 5, 3, 4]\n",
            "['Bihar' 'West Bengal']\n",
            "['Whole Year ']\n",
            "Count of states having same yeild -  2\n",
            "[0, 10, 13, 10, 15, 6, 13, 2, 21, 8, 8, 10, 20, 18, 9, 8, 13, 18, 2, 15, 9, 11, 1, 6, 8, 12, 4, 5, 7, 8, 5, 4, 3, 7, 9, 4, 5, 7, 4, 7, 5, 3, 4, 2]\n",
            "['Bihar' 'West Bengal']\n",
            "['Rabi       ' 'Whole Year ']\n",
            "Count of states having same yeild -  2\n",
            "[0, 10, 13, 10, 15, 6, 13, 2, 21, 8, 8, 10, 20, 18, 9, 8, 13, 18, 2, 15, 9, 11, 1, 6, 8, 12, 4, 5, 7, 8, 5, 4, 3, 7, 9, 4, 5, 7, 4, 7, 5, 3, 4, 2, 2]\n",
            "['Gujarat' 'Uttar Pradesh']\n",
            "['Kharif     ']\n",
            "Count of states having same yeild -  2\n",
            "[0, 10, 13, 10, 15, 6, 13, 2, 21, 8, 8, 10, 20, 18, 9, 8, 13, 18, 2, 15, 9, 11, 1, 6, 8, 12, 4, 5, 7, 8, 5, 4, 3, 7, 9, 4, 5, 7, 4, 7, 5, 3, 4, 2, 2, 2]\n",
            "['Gujarat' 'Maharashtra' 'Meghalaya' 'Tamil Nadu' 'West Bengal']\n",
            "['Whole Year ' 'Kharif     ' 'Rabi       ']\n",
            "Count of states having same yeild -  5\n",
            "[0, 10, 13, 10, 15, 6, 13, 2, 21, 8, 8, 10, 20, 18, 9, 8, 13, 18, 2, 15, 9, 11, 1, 6, 8, 12, 4, 5, 7, 8, 5, 4, 3, 7, 9, 4, 5, 7, 4, 7, 5, 3, 4, 2, 2, 2, 5]\n",
            "['Karnataka' 'Madhya Pradesh' 'Odisha']\n",
            "['Kharif     ' 'Rabi       ' 'Summer     ' 'Autumn     ' 'Winter     ']\n",
            "Count of states having same yeild -  3\n",
            "[0, 10, 13, 10, 15, 6, 13, 2, 21, 8, 8, 10, 20, 18, 9, 8, 13, 18, 2, 15, 9, 11, 1, 6, 8, 12, 4, 5, 7, 8, 5, 4, 3, 7, 9, 4, 5, 7, 4, 7, 5, 3, 4, 2, 2, 2, 5, 3]\n",
            "['Karnataka' 'Kerala' 'Tamil Nadu']\n",
            "['Kharif     ' 'Whole Year ']\n",
            "Count of states having same yeild -  3\n",
            "[0, 10, 13, 10, 15, 6, 13, 2, 21, 8, 8, 10, 20, 18, 9, 8, 13, 18, 2, 15, 9, 11, 1, 6, 8, 12, 4, 5, 7, 8, 5, 4, 3, 7, 9, 4, 5, 7, 4, 7, 5, 3, 4, 2, 2, 2, 5, 3, 3]\n",
            "['Karnataka' 'Tamil Nadu' 'West Bengal']\n",
            "['Whole Year ']\n",
            "Count of states having same yeild -  3\n",
            "[0, 10, 13, 10, 15, 6, 13, 2, 21, 8, 8, 10, 20, 18, 9, 8, 13, 18, 2, 15, 9, 11, 1, 6, 8, 12, 4, 5, 7, 8, 5, 4, 3, 7, 9, 4, 5, 7, 4, 7, 5, 3, 4, 2, 2, 2, 5, 3, 3, 3]\n",
            "['Kerala' 'Tamil Nadu']\n",
            "['Whole Year ']\n",
            "Count of states having same yeild -  2\n",
            "[0, 10, 13, 10, 15, 6, 13, 2, 21, 8, 8, 10, 20, 18, 9, 8, 13, 18, 2, 15, 9, 11, 1, 6, 8, 12, 4, 5, 7, 8, 5, 4, 3, 7, 9, 4, 5, 7, 4, 7, 5, 3, 4, 2, 2, 2, 5, 3, 3, 3, 2]\n",
            "['Maharashtra' 'Meghalaya' 'Tamil Nadu' 'Uttar Pradesh']\n",
            "['Kharif     ' 'Whole Year ']\n",
            "Count of states having same yeild -  4\n",
            "[0, 10, 13, 10, 15, 6, 13, 2, 21, 8, 8, 10, 20, 18, 9, 8, 13, 18, 2, 15, 9, 11, 1, 6, 8, 12, 4, 5, 7, 8, 5, 4, 3, 7, 9, 4, 5, 7, 4, 7, 5, 3, 4, 2, 2, 2, 5, 3, 3, 3, 2, 4]\n",
            "['Manipur' 'Mizoram']\n",
            "['Kharif     ']\n",
            "Count of states having same yeild -  2\n",
            "[0, 10, 13, 10, 15, 6, 13, 2, 21, 8, 8, 10, 20, 18, 9, 8, 13, 18, 2, 15, 9, 11, 1, 6, 8, 12, 4, 5, 7, 8, 5, 4, 3, 7, 9, 4, 5, 7, 4, 7, 5, 3, 4, 2, 2, 2, 5, 3, 3, 3, 2, 4, 2]\n",
            "['Manipur' 'Mizoram' 'Uttar Pradesh']\n",
            "['Kharif     ' 'Rabi       ']\n",
            "Count of states having same yeild -  3\n",
            "[0, 10, 13, 10, 15, 6, 13, 2, 21, 8, 8, 10, 20, 18, 9, 8, 13, 18, 2, 15, 9, 11, 1, 6, 8, 12, 4, 5, 7, 8, 5, 4, 3, 7, 9, 4, 5, 7, 4, 7, 5, 3, 4, 2, 2, 2, 5, 3, 3, 3, 2, 4, 2, 3]\n",
            "['Punjab' 'Uttar Pradesh' 'West Bengal']\n",
            "['Rabi       ']\n",
            "Count of states having same yeild -  3\n",
            "[0, 10, 13, 10, 15, 6, 13, 2, 21, 8, 8, 10, 20, 18, 9, 8, 13, 18, 2, 15, 9, 11, 1, 6, 8, 12, 4, 5, 7, 8, 5, 4, 3, 7, 9, 4, 5, 7, 4, 7, 5, 3, 4, 2, 2, 2, 5, 3, 3, 3, 2, 4, 2, 3, 3]\n",
            "['West Bengal']\n",
            "['Rabi       ']\n",
            "Count of states having same yeild -  1\n",
            "[0, 10, 13, 10, 15, 6, 13, 2, 21, 8, 8, 10, 20, 18, 9, 8, 13, 18, 2, 15, 9, 11, 1, 6, 8, 12, 4, 5, 7, 8, 5, 4, 3, 7, 9, 4, 5, 7, 4, 7, 5, 3, 4, 2, 2, 2, 5, 3, 3, 3, 2, 4, 2, 3, 3, 1]\n"
          ],
          "name": "stdout"
        }
      ]
    },
    {
      "cell_type": "markdown",
      "metadata": {
        "id": "rxOynOkbmMNB"
      },
      "source": [
        "####Creating dataframe for each crop name to know in how many states it is grown."
      ]
    },
    {
      "cell_type": "code",
      "metadata": {
        "id": "b3tnE2nykUHs",
        "outputId": "a343be79-81d5-4373-84b0-95301b58ce87",
        "colab": {
          "base_uri": "https://localhost:8080/",
          "height": 359
        }
      },
      "source": [
        "#Creating dataframe from the list obtained from the output\n",
        "df = {'Crop_Name':cropList,'Total_States':cropoutput}\n",
        "df1 = pd.DataFrame(df)\n",
        "df1.head(10)"
      ],
      "execution_count": 24,
      "outputs": [
        {
          "output_type": "execute_result",
          "data": {
            "text/html": [
              "<div>\n",
              "<style scoped>\n",
              "    .dataframe tbody tr th:only-of-type {\n",
              "        vertical-align: middle;\n",
              "    }\n",
              "\n",
              "    .dataframe tbody tr th {\n",
              "        vertical-align: top;\n",
              "    }\n",
              "\n",
              "    .dataframe thead th {\n",
              "        text-align: right;\n",
              "    }\n",
              "</style>\n",
              "<table border=\"1\" class=\"dataframe\">\n",
              "  <thead>\n",
              "    <tr style=\"text-align: right;\">\n",
              "      <th></th>\n",
              "      <th>Crop_Name</th>\n",
              "      <th>Total_States</th>\n",
              "    </tr>\n",
              "  </thead>\n",
              "  <tbody>\n",
              "    <tr>\n",
              "      <th>0</th>\n",
              "      <td>Arhar/TurBajra</td>\n",
              "      <td>0</td>\n",
              "    </tr>\n",
              "    <tr>\n",
              "      <th>1</th>\n",
              "      <td>Castor seed</td>\n",
              "      <td>10</td>\n",
              "    </tr>\n",
              "    <tr>\n",
              "      <th>2</th>\n",
              "      <td>Cotton(lint)</td>\n",
              "      <td>13</td>\n",
              "    </tr>\n",
              "    <tr>\n",
              "      <th>3</th>\n",
              "      <td>Dry chillies</td>\n",
              "      <td>10</td>\n",
              "    </tr>\n",
              "    <tr>\n",
              "      <th>4</th>\n",
              "      <td>Groundnut</td>\n",
              "      <td>15</td>\n",
              "    </tr>\n",
              "    <tr>\n",
              "      <th>5</th>\n",
              "      <td>Horse-gram</td>\n",
              "      <td>6</td>\n",
              "    </tr>\n",
              "    <tr>\n",
              "      <th>6</th>\n",
              "      <td>Jowar</td>\n",
              "      <td>13</td>\n",
              "    </tr>\n",
              "    <tr>\n",
              "      <th>7</th>\n",
              "      <td>Korra</td>\n",
              "      <td>2</td>\n",
              "    </tr>\n",
              "    <tr>\n",
              "      <th>8</th>\n",
              "      <td>Maize</td>\n",
              "      <td>21</td>\n",
              "    </tr>\n",
              "    <tr>\n",
              "      <th>9</th>\n",
              "      <td>Moong(Green Gram)</td>\n",
              "      <td>8</td>\n",
              "    </tr>\n",
              "  </tbody>\n",
              "</table>\n",
              "</div>"
            ],
            "text/plain": [
              "           Crop_Name  Total_States\n",
              "0     Arhar/TurBajra             0\n",
              "1        Castor seed            10\n",
              "2       Cotton(lint)            13\n",
              "3       Dry chillies            10\n",
              "4          Groundnut            15\n",
              "5         Horse-gram             6\n",
              "6              Jowar            13\n",
              "7              Korra             2\n",
              "8              Maize            21\n",
              "9  Moong(Green Gram)             8"
            ]
          },
          "metadata": {
            "tags": []
          },
          "execution_count": 24
        }
      ]
    },
    {
      "cell_type": "markdown",
      "metadata": {
        "id": "l3YMDN5il2Td"
      },
      "source": [
        "####Plotting the number of states growing same crop"
      ]
    },
    {
      "cell_type": "code",
      "metadata": {
        "id": "SYyOgkmRlLg1",
        "outputId": "6efec4e2-6c75-44de-bf15-7d6c219f6c5a",
        "colab": {
          "base_uri": "https://localhost:8080/",
          "height": 483
        }
      },
      "source": [
        "#Plotting the number of states growing same crop\n",
        "df1.plot(kind= 'bar',x='Crop_Name',y='Total_States',style='o', figsize=(20,5))\n",
        "plt.tick_params(labelsize=14)\n",
        "plt.xlabel('Crops',fontsize=14)\n",
        "plt.ylabel('Number of States the crop grown',fontsize=14)\n",
        "plt.show()"
      ],
      "execution_count": 25,
      "outputs": [
        {
          "output_type": "display_data",
          "data": {
            "image/png": "[encoded data removed]",
            "text/plain": [
              "<Figure size 1440x360 with 1 Axes>"
            ]
          },
          "metadata": {
            "tags": [],
            "needs_background": "light"
          }
        }
      ]
    },
    {
      "cell_type": "markdown",
      "metadata": {
        "id": "Y2Azq0Wl0-of"
      },
      "source": [
        "From the bar plot, we can see that, \n",
        "* Maize is grown in 21 states across India.\n",
        "* Rice stands at second place with its production across 20 states.\n",
        "* Sugarcane and Wheat stands at 3rd place as its production us in 18 states. "
      ]
    },
    {
      "cell_type": "markdown",
      "metadata": {
        "id": "0iVMOngh6Gsl"
      },
      "source": [
        "For a given perticular year, the crop details like:\n",
        "* State_Name\n",
        "* District_Name\n",
        "* Crop_Year\n",
        "* Season\n",
        "* Crop\n",
        "* Area\n",
        "* Production"
      ]
    },
    {
      "cell_type": "code",
      "metadata": {
        "id": "oG5Y8UtFlihI",
        "outputId": "9d6f1cb2-0d84-4bf4-9cb3-6351d1d44aa8",
        "colab": {
          "base_uri": "https://localhost:8080/",
          "height": 390
        }
      },
      "source": [
        "#Checking the season under which the crops are grown in the states\n",
        "dataset1[(dataset1['Crop_Year'] == 1997) & (dataset1['Crop'] == 'Korra')]"
      ],
      "execution_count": 26,
      "outputs": [
        {
          "output_type": "execute_result",
          "data": {
            "text/html": [
              "<div>\n",
              "<style scoped>\n",
              "    .dataframe tbody tr th:only-of-type {\n",
              "        vertical-align: middle;\n",
              "    }\n",
              "\n",
              "    .dataframe tbody tr th {\n",
              "        vertical-align: top;\n",
              "    }\n",
              "\n",
              "    .dataframe thead th {\n",
              "        text-align: right;\n",
              "    }\n",
              "</style>\n",
              "<table border=\"1\" class=\"dataframe\">\n",
              "  <thead>\n",
              "    <tr style=\"text-align: right;\">\n",
              "      <th></th>\n",
              "      <th>State_Name</th>\n",
              "      <th>District_Name</th>\n",
              "      <th>Crop_Year</th>\n",
              "      <th>Season</th>\n",
              "      <th>Crop</th>\n",
              "      <th>Area</th>\n",
              "      <th>Production</th>\n",
              "    </tr>\n",
              "  </thead>\n",
              "  <tbody>\n",
              "    <tr>\n",
              "      <th>211</th>\n",
              "      <td>Andhra Pradesh</td>\n",
              "      <td>ANANTAPUR</td>\n",
              "      <td>1997</td>\n",
              "      <td>Kharif</td>\n",
              "      <td>Korra</td>\n",
              "      <td>2200.0</td>\n",
              "      <td>700.0</td>\n",
              "    </tr>\n",
              "    <tr>\n",
              "      <th>225</th>\n",
              "      <td>Andhra Pradesh</td>\n",
              "      <td>ANANTAPUR</td>\n",
              "      <td>1997</td>\n",
              "      <td>Rabi</td>\n",
              "      <td>Korra</td>\n",
              "      <td>100.0</td>\n",
              "      <td>100.0</td>\n",
              "    </tr>\n",
              "    <tr>\n",
              "      <th>1786</th>\n",
              "      <td>Andhra Pradesh</td>\n",
              "      <td>EAST GODAVARI</td>\n",
              "      <td>1997</td>\n",
              "      <td>Kharif</td>\n",
              "      <td>Korra</td>\n",
              "      <td>1200.0</td>\n",
              "      <td>1100.0</td>\n",
              "    </tr>\n",
              "    <tr>\n",
              "      <th>3240</th>\n",
              "      <td>Andhra Pradesh</td>\n",
              "      <td>KADAPA</td>\n",
              "      <td>1997</td>\n",
              "      <td>Kharif</td>\n",
              "      <td>Korra</td>\n",
              "      <td>400.0</td>\n",
              "      <td>300.0</td>\n",
              "    </tr>\n",
              "    <tr>\n",
              "      <th>4698</th>\n",
              "      <td>Andhra Pradesh</td>\n",
              "      <td>KURNOOL</td>\n",
              "      <td>1997</td>\n",
              "      <td>Kharif</td>\n",
              "      <td>Korra</td>\n",
              "      <td>21700.0</td>\n",
              "      <td>13700.0</td>\n",
              "    </tr>\n",
              "    <tr>\n",
              "      <th>5527</th>\n",
              "      <td>Andhra Pradesh</td>\n",
              "      <td>PRAKASAM</td>\n",
              "      <td>1997</td>\n",
              "      <td>Kharif</td>\n",
              "      <td>Korra</td>\n",
              "      <td>1400.0</td>\n",
              "      <td>1400.0</td>\n",
              "    </tr>\n",
              "    <tr>\n",
              "      <th>7015</th>\n",
              "      <td>Andhra Pradesh</td>\n",
              "      <td>SRIKAKULAM</td>\n",
              "      <td>1997</td>\n",
              "      <td>Kharif</td>\n",
              "      <td>Korra</td>\n",
              "      <td>100.0</td>\n",
              "      <td>100.0</td>\n",
              "    </tr>\n",
              "    <tr>\n",
              "      <th>7706</th>\n",
              "      <td>Andhra Pradesh</td>\n",
              "      <td>VISAKHAPATANAM</td>\n",
              "      <td>1997</td>\n",
              "      <td>Kharif</td>\n",
              "      <td>Korra</td>\n",
              "      <td>300.0</td>\n",
              "      <td>300.0</td>\n",
              "    </tr>\n",
              "    <tr>\n",
              "      <th>8517</th>\n",
              "      <td>Andhra Pradesh</td>\n",
              "      <td>VIZIANAGARAM</td>\n",
              "      <td>1997</td>\n",
              "      <td>Kharif</td>\n",
              "      <td>Korra</td>\n",
              "      <td>800.0</td>\n",
              "      <td>700.0</td>\n",
              "    </tr>\n",
              "    <tr>\n",
              "      <th>193055</th>\n",
              "      <td>Telangana</td>\n",
              "      <td>MAHBUBNAGAR</td>\n",
              "      <td>1997</td>\n",
              "      <td>Kharif</td>\n",
              "      <td>Korra</td>\n",
              "      <td>1500.0</td>\n",
              "      <td>700.0</td>\n",
              "    </tr>\n",
              "    <tr>\n",
              "      <th>195606</th>\n",
              "      <td>Telangana</td>\n",
              "      <td>RANGAREDDI</td>\n",
              "      <td>1997</td>\n",
              "      <td>Kharif</td>\n",
              "      <td>Korra</td>\n",
              "      <td>300.0</td>\n",
              "      <td>100.0</td>\n",
              "    </tr>\n",
              "  </tbody>\n",
              "</table>\n",
              "</div>"
            ],
            "text/plain": [
              "            State_Name   District_Name  Crop_Year       Season   Crop  \\\n",
              "211     Andhra Pradesh       ANANTAPUR       1997  Kharif       Korra   \n",
              "225     Andhra Pradesh       ANANTAPUR       1997  Rabi         Korra   \n",
              "1786    Andhra Pradesh   EAST GODAVARI       1997  Kharif       Korra   \n",
              "3240    Andhra Pradesh          KADAPA       1997  Kharif       Korra   \n",
              "4698    Andhra Pradesh         KURNOOL       1997  Kharif       Korra   \n",
              "5527    Andhra Pradesh        PRAKASAM       1997  Kharif       Korra   \n",
              "7015    Andhra Pradesh      SRIKAKULAM       1997  Kharif       Korra   \n",
              "7706    Andhra Pradesh  VISAKHAPATANAM       1997  Kharif       Korra   \n",
              "8517    Andhra Pradesh    VIZIANAGARAM       1997  Kharif       Korra   \n",
              "193055      Telangana      MAHBUBNAGAR       1997  Kharif       Korra   \n",
              "195606      Telangana       RANGAREDDI       1997  Kharif       Korra   \n",
              "\n",
              "           Area  Production  \n",
              "211      2200.0       700.0  \n",
              "225       100.0       100.0  \n",
              "1786     1200.0      1100.0  \n",
              "3240      400.0       300.0  \n",
              "4698    21700.0     13700.0  \n",
              "5527     1400.0      1400.0  \n",
              "7015      100.0       100.0  \n",
              "7706      300.0       300.0  \n",
              "8517      800.0       700.0  \n",
              "193055   1500.0       700.0  \n",
              "195606    300.0       100.0  "
            ]
          },
          "metadata": {
            "tags": []
          },
          "execution_count": 26
        }
      ]
    },
    {
      "cell_type": "markdown",
      "metadata": {
        "id": "4FcEHl9A8vQk"
      },
      "source": [
        "* \"Korra\" is grown only in the states of Andhra Pradesh and Telangana.\n"
      ]
    },
    {
      "cell_type": "markdown",
      "metadata": {
        "id": "hnn4ZvSw_Gff"
      },
      "source": [
        "####Calculating the average weather of seasonal crops for each month and the average weather across the seasons for its production."
      ]
    },
    {
      "cell_type": "code",
      "metadata": {
        "id": "U1j1eJAp5wyM",
        "outputId": "faaefe25-7f8b-4e02-bad1-f7168a209170",
        "colab": {
          "base_uri": "https://localhost:8080/",
          "height": 884
        }
      },
      "source": [
        "# Based on the season the crops are grown calculating the average temperaturs of each season in which Maize is grown\n",
        "aa = weather_kharif(2015)\n",
        "bb = weather_rabi(2015)\n",
        "cc = weather_summer(2015)\n",
        "dd = weather_winter(2015)\n",
        "ee = weather_whole(2015)\n",
        "ff = weather_autumn(2015)"
      ],
      "execution_count": 27,
      "outputs": [
        {
          "output_type": "stream",
          "text": [
            "Weather in the Kharif Season : \n",
            "       YEAR    JUL    AUG    SEP    OCT\n",
            "114  2015  28.03  27.64  27.04  25.82\n",
            "--------------------------------------------\n",
            " Average temperature of Kharif season is : \n",
            " 114    27.1325\n",
            "dtype: float64\n",
            "----------------------------------------------------------------------------------------------------\n",
            "Weather in the Rabi Season : \n",
            "       YEAR    OCT    NOV    DEC    JAN    FEB    MAR\n",
            "114  2015  25.82  22.95  20.21  19.02  21.23  23.52\n",
            "--------------------------------------------\n",
            " Average temperature of Rabi season is : \n",
            " 114    22.125\n",
            "dtype: float64\n",
            "----------------------------------------------------------------------------------------------------\n",
            "Weather in the Summer Season : \n",
            "       YEAR    MAR    APR    MAY    JUN\n",
            "114  2015  23.52  26.52  28.82  28.15\n",
            "--------------------------------------------\n",
            " Average temperature of Summer season is : \n",
            " 114    26.7525\n",
            "dtype: float64\n",
            "----------------------------------------------------------------------------------------------------\n",
            "Weather in the Winter Season : \n",
            "       YEAR    DEC    JAN\n",
            "114  2015  20.21  19.02\n",
            "--------------------------------------------\n",
            " Average temperature of Winter season is : \n",
            " 114    19.615\n",
            "dtype: float64\n",
            "----------------------------------------------------------------------------------------------------\n",
            "Weather in the Whole Year : \n",
            "       Unnamed: 0  YEAR    JAN    FEB    MAR    APR    MAY    JUN    JUL    AUG  \\\n",
            "114         114  2015  19.02  21.23  23.52  26.52  28.82  28.15  28.03  27.64   \n",
            "\n",
            "       SEP    OCT    NOV    DEC  \n",
            "114  27.04  25.82  22.95  20.21  \n",
            "--------------------------------------------\n",
            " Average temperature of Whole Year is : \n",
            " 114    24.9125\n",
            "dtype: float64\n",
            "----------------------------------------------------------------------------------------------------\n",
            "Weather in the Autumn Season : \n",
            "       YEAR    SEP    OCT\n",
            "114  2015  27.04  25.82\n",
            "--------------------------------------------\n",
            " Average temperature of Autumn season is : \n",
            " 114    26.43\n",
            "dtype: float64\n",
            "----------------------------------------------------------------------------------------------------\n"
          ],
          "name": "stdout"
        }
      ]
    },
    {
      "cell_type": "markdown",
      "metadata": {
        "id": "2yg2jo3aBjbZ"
      },
      "source": [
        "# Which state has highest variety of crop yeild and under what temperature the crops are grown for the most recent year 2014."
      ]
    },
    {
      "cell_type": "code",
      "metadata": {
        "id": "Crrydu7qBlQo"
      },
      "source": [
        "# Defining a function to obtain result of number crop yeilds grown in every state for the year 2014\n",
        "def state(stateNames):\n",
        "    total=[]\n",
        "    for i in range(len(stateNames)):\n",
        "        high18 = dataset1[(dataset1['Crop_Year'] == 2014) & (dataset1['State_Name'] == stateNames[i])]\n",
        "        print(high18['Crop'].unique())\n",
        "        print(high18['Season'].unique())\n",
        "        print(\"Count of variety of yeild - \",len(high18['Crop'].unique()))\n",
        "        total.append(len(high18['Crop'].unique())) \n",
        "        print(total)\n",
        "    return total"
      ],
      "execution_count": 28,
      "outputs": []
    },
    {
      "cell_type": "code",
      "metadata": {
        "id": "H_0KC3i3BwnI",
        "outputId": "cffe178c-7798-4ff0-eda4-9d37600fd80b",
        "colab": {
          "base_uri": "https://localhost:8080/",
          "height": 1000
        }
      },
      "source": [
        "list_state = ['Andaman and Nicobar Islands', 'Andhra Pradesh',\n",
        "       'Arunachal Pradesh', 'Assam', 'Bihar', 'Chandigarh',\n",
        "       'Chhattisgarh', 'Dadra and Nagar Haveli', 'Goa', 'Gujarat',\n",
        "       'Haryana', 'Himachal Pradesh', 'Jammu and Kashmir ', 'Jharkhand',\n",
        "       'Karnataka', 'Kerala', 'Madhya Pradesh', 'Maharashtra', 'Manipur',\n",
        "       'Meghalaya', 'Mizoram', 'Nagaland', 'Odisha', 'Puducherry',\n",
        "       'Punjab', 'Rajasthan', 'Sikkim', 'Tamil Nadu', 'Telangana ',\n",
        "       'Tripura', 'Uttar Pradesh', 'Uttarakhand', 'West Bengal']\n",
        "totalList = state(list_state)\n",
        "\n"
      ],
      "execution_count": 29,
      "outputs": [
        {
          "output_type": "stream",
          "text": [
            "[]\n",
            "[]\n",
            "Count of variety of yeild -  0\n",
            "[0]\n",
            "['Arhar/Tur' 'Bajra' 'Brinjal' 'Cabbage' 'Cashewnut' 'Castor seed'\n",
            " 'Coriander' 'Cotton(lint)' 'Cowpea(Lobia)' 'Dry chillies' 'Grapes'\n",
            " 'Groundnut' 'Horse-gram' 'Jowar' 'Lemon' 'Maize' 'Mango' 'Mesta'\n",
            " 'Moong(Green Gram)' 'Onion' 'Other Kharif pulses' 'other oilseeds'\n",
            " 'Papaya' 'Pome Granet' 'Potato' 'Ragi' 'Rice' 'Sapota' 'Small millets'\n",
            " 'Soyabean' 'Sugarcane' 'Sunflower' 'Tobacco' 'Tomato' 'Turmeric' 'Urad'\n",
            " 'Gram' 'Other  Rabi pulses' 'Safflower' 'Sweet potato' 'Coconut '\n",
            " 'Sesamum' 'Rapeseed &Mustard' 'Linseed' 'Wheat' 'Dry ginger' 'Niger seed']\n",
            "['Kharif     ' 'Rabi       ' 'Whole Year ']\n",
            "Count of variety of yeild -  47\n",
            "[0, 47]\n",
            "['Maize' 'Rice' 'Small millets' 'Dry chillies' 'Dry ginger'\n",
            " 'Oilseeds total' 'Potato' 'Turmeric' 'Wheat' 'Sugarcane']\n",
            "['Kharif     ' 'Whole Year ' 'Rabi       ']\n",
            "Count of variety of yeild -  10\n",
            "[0, 47, 10]\n",
            "['Paddy' 'Rice' 'Arhar/Tur' 'Castor seed' 'Cotton(lint)' 'Jute' 'Maize'\n",
            " 'Mesta' 'Niger seed' 'Orange' 'Papaya' 'Sesamum' 'Small millets'\n",
            " 'Tapioca' 'Tobacco' 'Black pepper' 'Dry chillies' 'Ginger' 'Gram'\n",
            " 'Linseed' 'Masoor' 'Moong(Green Gram)' 'Peas & beans (Pulses)'\n",
            " 'Pineapple' 'Rapeseed &Mustard' 'Sweet potato' 'Urad' 'Wheat' 'Banana'\n",
            " 'Onion' 'Potato' 'Sugarcane' 'Turmeric']\n",
            "['Autumn     ' 'Kharif     ' 'Rabi       ' 'Summer     ' 'Whole Year '\n",
            " 'Winter     ']\n",
            "Count of variety of yeild -  33\n",
            "[0, 47, 10, 33]\n",
            "['Maize' 'Rice' 'Arhar/Tur' 'Horse-gram' 'Jute' 'Mesta'\n",
            " 'Moong(Green Gram)' 'Ragi' 'Sesamum' 'Urad' 'Gram' 'Masoor' 'Sunflower'\n",
            " 'Wheat' 'Other Kharif pulses' 'Small millets' 'Barley' 'Khesari'\n",
            " 'Linseed' 'Peas & beans (Pulses)' 'Rapeseed &Mustard' 'Sugarcane'\n",
            " 'Sannhamp' 'Groundnut' 'Jowar' 'Other  Rabi pulses' 'Tobacco' 'Bajra'\n",
            " 'Castor seed' 'Safflower']\n",
            "['Autumn     ' 'Kharif     ' 'Rabi       ' 'Summer     ' 'Winter     '\n",
            " 'Whole Year ']\n",
            "Count of variety of yeild -  30\n",
            "[0, 47, 10, 33, 30]\n",
            "[]\n",
            "[]\n",
            "Count of variety of yeild -  0\n",
            "[0, 47, 10, 33, 30, 0]\n",
            "['Arhar/Tur' 'Horse-gram' 'Maize' 'Mesta' 'Moong(Green Gram)'\n",
            " 'Other Kharif pulses' 'Ragi' 'Rice' 'Sesamum' 'Small millets' 'Soyabean'\n",
            " 'Sunflower' 'Urad' 'Gram' 'Khesari' 'Linseed' 'Masoor'\n",
            " 'Other  Rabi pulses' 'Peas & beans (Pulses)' 'Rapeseed &Mustard'\n",
            " 'Safflower' 'Wheat' 'Banana' 'Coriander' 'Dry chillies' 'Jowar' 'Onion'\n",
            " 'Sugarcane' 'Sweet potato' 'Turmeric' 'Bajra' 'Groundnut' 'Sannhamp'\n",
            " 'Potato' 'Dry ginger' 'Garlic' 'Niger seed' 'Barley' 'Cotton(lint)'\n",
            " 'Tobacco' 'Castor seed' 'Coconut ' 'Jute']\n",
            "['Kharif     ' 'Rabi       ' 'Whole Year ']\n",
            "Count of variety of yeild -  43\n",
            "[0, 47, 10, 33, 30, 0, 43]\n",
            "['Jowar' 'Maize' 'Ragi' 'Rice' 'Small millets' 'Wheat']\n",
            "['Kharif     ' 'Rabi       ' 'Winter     ']\n",
            "Count of variety of yeild -  6\n",
            "[0, 47, 10, 33, 30, 0, 43, 6]\n",
            "['Groundnut' 'Other Kharif pulses' 'Ragi' 'Rice' 'Other  Rabi pulses'\n",
            " 'Arecanut' 'Banana' 'Black pepper' 'Cashewnut' 'Coconut ' 'Mango'\n",
            " 'Other Fresh Fruits' 'Other Vegetables' 'Pineapple' 'Sugarcane']\n",
            "['Kharif     ' 'Rabi       ' 'Whole Year ']\n",
            "Count of variety of yeild -  15\n",
            "[0, 47, 10, 33, 30, 0, 43, 6, 15]\n",
            "[]\n",
            "[]\n",
            "Count of variety of yeild -  0\n",
            "[0, 47, 10, 33, 30, 0, 43, 6, 15, 0]\n",
            "[]\n",
            "[]\n",
            "Count of variety of yeild -  0\n",
            "[0, 47, 10, 33, 30, 0, 43, 6, 15, 0, 0]\n",
            "[]\n",
            "[]\n",
            "Count of variety of yeild -  0\n",
            "[0, 47, 10, 33, 30, 0, 43, 6, 15, 0, 0, 0]\n",
            "['Dry chillies' 'Maize' 'Moong(Green Gram)' 'Onion' 'Other Kharif pulses'\n",
            " 'Potato' 'Rice' 'Sannhamp' 'Urad' 'Bajra' 'Other Cereals & Millets'\n",
            " 'Masoor' 'Sesamum' 'Dry ginger' 'Tobacco' 'Turmeric' 'Barley'\n",
            " 'Peas & beans (Pulses)' 'Sugarcane' 'Rapeseed &Mustard']\n",
            "['Kharif     ']\n",
            "Count of variety of yeild -  20\n",
            "[0, 47, 10, 33, 30, 0, 43, 6, 15, 0, 0, 0, 20]\n",
            "[]\n",
            "[]\n",
            "Count of variety of yeild -  0\n",
            "[0, 47, 10, 33, 30, 0, 43, 6, 15, 0, 0, 0, 20, 0]\n",
            "['Arhar/Tur' 'Bajra' 'Cotton(lint)' 'Cowpea(Lobia)' 'Dry chillies'\n",
            " 'Groundnut' 'Horse-gram' 'Jowar' 'Maize' 'Moong(Green Gram)' 'Niger seed'\n",
            " 'Onion' 'Other Kharif pulses' 'Rice' 'Sesamum' 'Soyabean' 'Sunflower'\n",
            " 'Urad' 'Gram' 'Linseed' 'Other  Rabi pulses' 'Safflower' 'Wheat'\n",
            " 'Coconut ' 'Coriander' 'Dry ginger' 'Sugarcane' 'Turmeric' 'Castor seed'\n",
            " 'Potato' 'Ragi' 'Rapeseed &Mustard' 'Small millets' 'Arecanut'\n",
            " 'Black pepper' 'Cashewnut' 'Garlic' 'Sweet potato' 'Tapioca' 'Mesta'\n",
            " 'Sannhamp' 'Tobacco' 'Cardamom']\n",
            "['Kharif     ' 'Rabi       ' 'Summer     ' 'Whole Year ']\n",
            "Count of variety of yeild -  43\n",
            "[0, 47, 10, 33, 30, 0, 43, 6, 15, 0, 0, 0, 20, 0, 43]\n",
            "['Rice' 'Arecanut' 'Banana' 'Black pepper' 'Cashewnut' 'Coconut '\n",
            " 'Cowpea(Lobia)' 'Drum Stick' 'Dry ginger' 'Mango' 'Moong(Green Gram)'\n",
            " 'Papaya' 'Pineapple' 'Pump Kin' 'Sesamum' 'Sugarcane' 'Sweet potato'\n",
            " 'Tapioca' 'Turmeric' 'Cardamom' 'Garlic' 'Maize' 'Onion' 'Potato' 'Ragi'\n",
            " 'Wheat' 'Blackgram' 'Horse-gram' 'Tobacco' 'Arhar/Tur' 'Groundnut'\n",
            " 'Jowar' 'Small millets' 'Soyabean']\n",
            "['Autumn     ' 'Summer     ' 'Whole Year ' 'Winter     ']\n",
            "Count of variety of yeild -  34\n",
            "[0, 47, 10, 33, 30, 0, 43, 6, 15, 0, 0, 0, 20, 0, 43, 34]\n",
            "[]\n",
            "[]\n",
            "Count of variety of yeild -  0\n",
            "[0, 47, 10, 33, 30, 0, 43, 6, 15, 0, 0, 0, 20, 0, 43, 34, 0]\n",
            "['Arhar/Tur' 'Bajra' 'Castor seed' 'Cotton(lint)' 'Groundnut' 'Maize'\n",
            " 'Moong(Green Gram)' 'Niger seed' 'Other Kharif pulses' 'Ragi' 'Rice'\n",
            " 'Soyabean' 'Sunflower' 'Gram' 'Jowar' 'Linseed' 'Other  Rabi pulses'\n",
            " 'Safflower' 'Wheat' 'Sugarcane' 'Sesamum' 'Tobacco']\n",
            "['Kharif     ' 'Rabi       ' 'Summer     ' 'Whole Year ']\n",
            "Count of variety of yeild -  22\n",
            "[0, 47, 10, 33, 30, 0, 43, 6, 15, 0, 0, 0, 20, 0, 43, 34, 0, 22]\n",
            "[]\n",
            "[]\n",
            "Count of variety of yeild -  0\n",
            "[0, 47, 10, 33, 30, 0, 43, 6, 15, 0, 0, 0, 20, 0, 43, 34, 0, 22, 0]\n",
            "['Rice' 'Arhar/Tur' 'Banana' 'Castor seed' 'Cotton(lint)' 'Dry ginger'\n",
            " 'Jute' 'Mesta' 'Sesamum' 'Soyabean' 'Sweet potato' 'Tapioca'\n",
            " 'Cowpea(Lobia)' 'Gram' 'Masoor' 'Peas & beans (Pulses)'\n",
            " 'Rapeseed &Mustard' 'Small millets' 'Tobacco' 'Wheat' 'Potato' 'Arecanut'\n",
            " 'Black pepper' 'Cashewnut' 'Dry chillies' 'Maize' 'Sugarcane' 'Turmeric'\n",
            " 'Linseed']\n",
            "['Autumn     ' 'Kharif     ' 'Rabi       ' 'Summer     ' 'Whole Year '\n",
            " 'Winter     ']\n",
            "Count of variety of yeild -  29\n",
            "[0, 47, 10, 33, 30, 0, 43, 6, 15, 0, 0, 0, 20, 0, 43, 34, 0, 22, 0, 29]\n",
            "[]\n",
            "[]\n",
            "Count of variety of yeild -  0\n",
            "[0, 47, 10, 33, 30, 0, 43, 6, 15, 0, 0, 0, 20, 0, 43, 34, 0, 22, 0, 29, 0]\n",
            "['Arhar/Tur' 'Bajra' 'Barley' 'Blackgram' 'Castor seed' 'Cotton(lint)'\n",
            " 'Cowpea(Lobia)' 'Ginger' 'Groundnut' 'Horse-gram' 'Jute' 'Maize' 'Mesta'\n",
            " 'Moong(Green Gram)' 'Oilseeds total' 'Ragi' 'Rice' 'Sesamum' 'Soyabean'\n",
            " 'Sugarcane' 'Sweet potato' 'Tapioca' 'Lentil' 'Linseed'\n",
            " 'Peas & beans (Pulses)' 'Potato' 'Rapeseed &Mustard' 'Sunflower' 'Wheat'\n",
            " 'Bean' 'Other Kharif pulses' 'Small millets' 'Other  Rabi pulses' 'Jowar']\n",
            "['Kharif     ' 'Rabi       ']\n",
            "Count of variety of yeild -  34\n",
            "[0, 47, 10, 33, 30, 0, 43, 6, 15, 0, 0, 0, 20, 0, 43, 34, 0, 22, 0, 29, 0, 34]\n",
            "['Groundnut' 'Maize' 'Moong(Green Gram)' 'Ragi' 'Rice' 'Sesamum' 'Urad'\n",
            " 'Wheat' 'Horse-gram' 'Potato' 'Rapeseed &Mustard' 'Sugarcane' 'Jute']\n",
            "['Autumn     ' 'Summer     ' 'Winter     ']\n",
            "Count of variety of yeild -  13\n",
            "[0, 47, 10, 33, 30, 0, 43, 6, 15, 0, 0, 0, 20, 0, 43, 34, 0, 22, 0, 29, 0, 34, 13]\n",
            "['Banana' 'Cashewnut' 'Mango' 'Ragi' 'Rice' 'Cotton(lint)' 'Groundnut'\n",
            " 'Moong(Green Gram)' 'Urad' 'Coconut ' 'Bajra' 'Brinjal' 'Dry chillies'\n",
            " 'Jowar' 'Onion' 'Sesamum' 'Sugarcane' 'Sweet potato' 'Tapioca'\n",
            " 'Other  Rabi pulses' 'Other Kharif pulses' 'Turmeric' 'Coriander']\n",
            "['Kharif     ' 'Rabi       ' 'Summer     ' 'Whole Year ']\n",
            "Count of variety of yeild -  23\n",
            "[0, 47, 10, 33, 30, 0, 43, 6, 15, 0, 0, 0, 20, 0, 43, 34, 0, 22, 0, 29, 0, 34, 13, 23]\n",
            "['Arhar/Tur' 'Maize' 'Moong(Green Gram)' 'Rice' 'Sesamum' 'Urad'\n",
            " 'Peas & beans (Pulses)' 'Rapeseed &Mustard' 'Wheat' 'Sugarcane'\n",
            " 'Cotton(lint)' 'Guar seed' 'Barley' 'Gram' 'Masoor' 'Groundnut']\n",
            "['Kharif     ' 'Rabi       ' 'Whole Year ']\n",
            "Count of variety of yeild -  16\n",
            "[0, 47, 10, 33, 30, 0, 43, 6, 15, 0, 0, 0, 20, 0, 43, 34, 0, 22, 0, 29, 0, 34, 13, 23, 16]\n",
            "[]\n",
            "[]\n",
            "Count of variety of yeild -  0\n",
            "[0, 47, 10, 33, 30, 0, 43, 6, 15, 0, 0, 0, 20, 0, 43, 34, 0, 22, 0, 29, 0, 34, 13, 23, 16, 0]\n",
            "['Maize' 'Other Kharif pulses' 'Rice' 'Small millets' 'Soyabean' 'Urad'\n",
            " 'Barley' 'Rapeseed &Mustard' 'Wheat']\n",
            "['Kharif     ' 'Rabi       ']\n",
            "Count of variety of yeild -  9\n",
            "[0, 47, 10, 33, 30, 0, 43, 6, 15, 0, 0, 0, 20, 0, 43, 34, 0, 22, 0, 29, 0, 34, 13, 23, 16, 0, 9]\n",
            "[]\n",
            "[]\n",
            "Count of variety of yeild -  0\n",
            "[0, 47, 10, 33, 30, 0, 43, 6, 15, 0, 0, 0, 20, 0, 43, 34, 0, 22, 0, 29, 0, 34, 13, 23, 16, 0, 9, 0]\n",
            "['Arhar/Tur' 'Banana' 'Cashewnut' 'Castor seed' 'Cotton(lint)'\n",
            " 'Cowpea(Lobia)' 'Dry chillies' 'Ginger' 'Jowar' 'Maize'\n",
            " 'Moong(Green Gram)' 'Onion' 'Other Kharif pulses' 'Rice' 'Sesamum'\n",
            " 'Soyabean' 'Sugarcane' 'Turmeric' 'Urad' 'Bajra' 'Gram' 'Groundnut'\n",
            " 'Horse-gram' 'Other  Rabi pulses' 'Ragi' 'Rapeseed &Mustard' 'Safflower'\n",
            " 'Sunflower' 'Sweet potato' 'Tobacco' 'Wheat' 'Coriander' 'Coconut '\n",
            " 'Mesta' 'other oilseeds' 'Small millets' 'Potato' 'Masoor' 'Linseed']\n",
            "['Kharif     ' 'Rabi       ' 'Whole Year ']\n",
            "Count of variety of yeild -  39\n",
            "[0, 47, 10, 33, 30, 0, 43, 6, 15, 0, 0, 0, 20, 0, 43, 34, 0, 22, 0, 29, 0, 34, 13, 23, 16, 0, 9, 0, 39]\n",
            "['Arhar/Tur' 'Cotton(lint)' 'Groundnut' 'Jute' 'Maize' 'Mesta'\n",
            " 'Moong(Green Gram)' 'Other Kharif pulses' 'Rice' 'Sesamum' 'Urad' 'Gram'\n",
            " 'Masoor' 'Peas & beans (Pulses)' 'Rapeseed &Mustard' 'Wheat' 'Sugarcane'\n",
            " 'Other  Rabi pulses']\n",
            "['Kharif     ' 'Rabi       ' 'Whole Year ']\n",
            "Count of variety of yeild -  18\n",
            "[0, 47, 10, 33, 30, 0, 43, 6, 15, 0, 0, 0, 20, 0, 43, 34, 0, 22, 0, 29, 0, 34, 13, 23, 16, 0, 9, 0, 39, 18]\n",
            "['Arhar/Tur' 'Bajra' 'Cotton(lint)' 'Dry chillies' 'Guar seed' 'Jowar'\n",
            " 'Maize' 'Moong(Green Gram)' 'Rice' 'Sannhamp' 'Sesamum' 'Sugarcane'\n",
            " 'Sweet potato' 'Urad' 'Barley' 'Coriander' 'Garlic' 'Gram' 'Masoor'\n",
            " 'Onion' 'Peas & beans (Pulses)' 'Potato' 'Rapeseed &Mustard' 'Wheat'\n",
            " 'Groundnut' 'Turmeric' 'Banana' 'Sunflower' 'Linseed' 'Tobacco'\n",
            " 'Small millets' 'Dry ginger' 'Ginger' 'Soyabean']\n",
            "['Kharif     ' 'Rabi       ' 'Summer     ']\n",
            "Count of variety of yeild -  34\n",
            "[0, 47, 10, 33, 30, 0, 43, 6, 15, 0, 0, 0, 20, 0, 43, 34, 0, 22, 0, 29, 0, 34, 13, 23, 16, 0, 9, 0, 39, 18, 34]\n",
            "['Arhar/Tur' 'Ginger' 'Groundnut' 'Horse-gram' 'Maize'\n",
            " 'Other Kharif pulses' 'Potato' 'Pulses total' 'Ragi' 'Rice' 'Sesamum'\n",
            " 'Small millets' 'Soyabean' 'Total foodgrain' 'Urad' 'Barley' 'Gram'\n",
            " 'Lentil' 'Masoor' 'Other Cereals & Millets' 'Peas & beans (Pulses)'\n",
            " 'Rapeseed &Mustard' 'Wheat' 'Garlic' 'Onion' 'Turmeric' 'Bajra'\n",
            " 'other oilseeds' 'Sugarcane' 'Moong(Green Gram)' 'Other  Rabi pulses'\n",
            " 'Sunflower' 'Linseed' 'Tobacco' 'Moth']\n",
            "['Kharif     ' 'Rabi       ' 'Whole Year ' 'Summer     ']\n",
            "Count of variety of yeild -  35\n",
            "[0, 47, 10, 33, 30, 0, 43, 6, 15, 0, 0, 0, 20, 0, 43, 34, 0, 22, 0, 29, 0, 34, 13, 23, 16, 0, 9, 0, 39, 18, 34, 35]\n",
            "['Maize' 'Rice' 'Jute' 'Mesta' 'Sunflower' 'Urad' 'Gram' 'Groundnut'\n",
            " 'Khesari' 'Linseed' 'Masoor' 'Peas & beans (Pulses)' 'Potato'\n",
            " 'Rapeseed &Mustard' 'Safflower' 'Wheat' 'Moong(Green Gram)' 'Sesamum'\n",
            " 'Sugarcane' 'Cotton(lint)' 'Arhar/Tur' 'Small millets' 'Sannhamp'\n",
            " 'Horse-gram' 'Other Kharif pulses' 'Soyabean' 'Barley'\n",
            " 'Other  Rabi pulses' 'Ragi' 'Bajra' 'Niger seed' 'Tobacco' 'Castor seed'\n",
            " 'Jowar' 'Moth']\n",
            "['Autumn     ' 'Kharif     ' 'Rabi       ' 'Summer     ' 'Whole Year '\n",
            " 'Winter     ']\n",
            "Count of variety of yeild -  35\n",
            "[0, 47, 10, 33, 30, 0, 43, 6, 15, 0, 0, 0, 20, 0, 43, 34, 0, 22, 0, 29, 0, 34, 13, 23, 16, 0, 9, 0, 39, 18, 34, 35, 35]\n"
          ],
          "name": "stdout"
        }
      ]
    },
    {
      "cell_type": "code",
      "metadata": {
        "id": "cTgxI64HB9IW",
        "outputId": "0c80cb51-7b02-49af-cc66-71d0d15102d2",
        "colab": {
          "base_uri": "https://localhost:8080/",
          "height": 359
        }
      },
      "source": [
        "#Creating dataframe from the list obtained from the output\n",
        "data = {'State_Name':list_state,'Total_Crops':totalList}\n",
        "data1 = pd.DataFrame(data)\n",
        "data1.head(10)"
      ],
      "execution_count": 30,
      "outputs": [
        {
          "output_type": "execute_result",
          "data": {
            "text/html": [
              "<div>\n",
              "<style scoped>\n",
              "    .dataframe tbody tr th:only-of-type {\n",
              "        vertical-align: middle;\n",
              "    }\n",
              "\n",
              "    .dataframe tbody tr th {\n",
              "        vertical-align: top;\n",
              "    }\n",
              "\n",
              "    .dataframe thead th {\n",
              "        text-align: right;\n",
              "    }\n",
              "</style>\n",
              "<table border=\"1\" class=\"dataframe\">\n",
              "  <thead>\n",
              "    <tr style=\"text-align: right;\">\n",
              "      <th></th>\n",
              "      <th>State_Name</th>\n",
              "      <th>Total_Crops</th>\n",
              "    </tr>\n",
              "  </thead>\n",
              "  <tbody>\n",
              "    <tr>\n",
              "      <th>0</th>\n",
              "      <td>Andaman and Nicobar Islands</td>\n",
              "      <td>0</td>\n",
              "    </tr>\n",
              "    <tr>\n",
              "      <th>1</th>\n",
              "      <td>Andhra Pradesh</td>\n",
              "      <td>47</td>\n",
              "    </tr>\n",
              "    <tr>\n",
              "      <th>2</th>\n",
              "      <td>Arunachal Pradesh</td>\n",
              "      <td>10</td>\n",
              "    </tr>\n",
              "    <tr>\n",
              "      <th>3</th>\n",
              "      <td>Assam</td>\n",
              "      <td>33</td>\n",
              "    </tr>\n",
              "    <tr>\n",
              "      <th>4</th>\n",
              "      <td>Bihar</td>\n",
              "      <td>30</td>\n",
              "    </tr>\n",
              "    <tr>\n",
              "      <th>5</th>\n",
              "      <td>Chandigarh</td>\n",
              "      <td>0</td>\n",
              "    </tr>\n",
              "    <tr>\n",
              "      <th>6</th>\n",
              "      <td>Chhattisgarh</td>\n",
              "      <td>43</td>\n",
              "    </tr>\n",
              "    <tr>\n",
              "      <th>7</th>\n",
              "      <td>Dadra and Nagar Haveli</td>\n",
              "      <td>6</td>\n",
              "    </tr>\n",
              "    <tr>\n",
              "      <th>8</th>\n",
              "      <td>Goa</td>\n",
              "      <td>15</td>\n",
              "    </tr>\n",
              "    <tr>\n",
              "      <th>9</th>\n",
              "      <td>Gujarat</td>\n",
              "      <td>0</td>\n",
              "    </tr>\n",
              "  </tbody>\n",
              "</table>\n",
              "</div>"
            ],
            "text/plain": [
              "                    State_Name  Total_Crops\n",
              "0  Andaman and Nicobar Islands            0\n",
              "1               Andhra Pradesh           47\n",
              "2            Arunachal Pradesh           10\n",
              "3                        Assam           33\n",
              "4                        Bihar           30\n",
              "5                   Chandigarh            0\n",
              "6                 Chhattisgarh           43\n",
              "7       Dadra and Nagar Haveli            6\n",
              "8                          Goa           15\n",
              "9                      Gujarat            0"
            ]
          },
          "metadata": {
            "tags": []
          },
          "execution_count": 30
        }
      ]
    },
    {
      "cell_type": "code",
      "metadata": {
        "id": "CSZaiSX6By13",
        "outputId": "166210a4-c88e-4c36-eaec-9930ce93e01a",
        "colab": {
          "base_uri": "https://localhost:8080/",
          "height": 538
        }
      },
      "source": [
        "#Plotting the number of crops grown in every state\n",
        "data1.plot(kind= 'bar',x='State_Name',y='Total_Crops',style='o', figsize=(20,5))\n",
        "plt.tick_params(labelsize=14)\n",
        "plt.xlabel('State',fontsize=14)\n",
        "plt.ylabel('Number of Crops Grown',fontsize=14)\n",
        "plt.show()"
      ],
      "execution_count": 31,
      "outputs": [
        {
          "output_type": "display_data",
          "data": {
            "image/png": "[encoded data removed]",
            "text/plain": [
              "<Figure size 1440x360 with 1 Axes>"
            ]
          },
          "metadata": {
            "tags": [],
            "needs_background": "light"
          }
        }
      ]
    },
    {
      "cell_type": "markdown",
      "metadata": {
        "id": "QLU-tw5zD_xz"
      },
      "source": [
        "* In 2014, 47 crops are grown in Andhra Pradesh. \n",
        "* Chattisgarh and Karnataka stansd at second place with 43 crops.\n",
        "* 11 states exists with zero crop production in 2014."
      ]
    },
    {
      "cell_type": "code",
      "metadata": {
        "id": "-5zMr9A4CVrl",
        "outputId": "0fbf3dfe-1c47-427f-d468-26bcbc2c6508",
        "colab": {
          "base_uri": "https://localhost:8080/",
          "height": 884
        }
      },
      "source": [
        "# Based on the crops grown in the state calculating the average temperaturs of each season in which crops are grown\n",
        "aa2 = weather_kharif(2014)\n",
        "bb2 = weather_autumn(2014)\n",
        "cc2 = weather_rabi(2014)\n",
        "dd2 = weather_summer(2014)\n",
        "ee2 = weather_winter(2014)\n",
        "ff2 = weather_whole(2014)"
      ],
      "execution_count": 32,
      "outputs": [
        {
          "output_type": "stream",
          "text": [
            "Weather in the Kharif Season : \n",
            "       YEAR    JUL    AUG    SEP    OCT\n",
            "113  2014  28.07  27.42  26.61  25.38\n",
            "--------------------------------------------\n",
            " Average temperature of Kharif season is : \n",
            " 113    26.87\n",
            "dtype: float64\n",
            "----------------------------------------------------------------------------------------------------\n",
            "Weather in the Autumn Season : \n",
            "       YEAR    SEP    OCT\n",
            "113  2014  26.61  25.38\n",
            "--------------------------------------------\n",
            " Average temperature of Autumn season is : \n",
            " 113    25.995\n",
            "dtype: float64\n",
            "----------------------------------------------------------------------------------------------------\n",
            "Weather in the Rabi Season : \n",
            "       YEAR    OCT    NOV   DEC    JAN    FEB    MAR\n",
            "113  2014  25.38  22.53  19.5  18.81  20.35  23.34\n",
            "--------------------------------------------\n",
            " Average temperature of Rabi season is : \n",
            " 113    21.651667\n",
            "dtype: float64\n",
            "----------------------------------------------------------------------------------------------------\n",
            "Weather in the Summer Season : \n",
            "       YEAR    MAR    APR    MAY    JUN\n",
            "113  2014  23.34  26.91  28.45  29.42\n",
            "--------------------------------------------\n",
            " Average temperature of Summer season is : \n",
            " 113    27.03\n",
            "dtype: float64\n",
            "----------------------------------------------------------------------------------------------------\n",
            "Weather in the Winter Season : \n",
            "       YEAR   DEC    JAN\n",
            "113  2014  19.5  18.81\n",
            "--------------------------------------------\n",
            " Average temperature of Winter season is : \n",
            " 113    19.155\n",
            "dtype: float64\n",
            "----------------------------------------------------------------------------------------------------\n",
            "Weather in the Whole Year : \n",
            "       Unnamed: 0  YEAR    JAN    FEB    MAR    APR    MAY    JUN    JUL    AUG  \\\n",
            "113         113  2014  18.81  20.35  23.34  26.91  28.45  29.42  28.07  27.42   \n",
            "\n",
            "       SEP    OCT    NOV   DEC  \n",
            "113  26.61  25.38  22.53  19.5  \n",
            "--------------------------------------------\n",
            " Average temperature of Whole Year is : \n",
            " 113    24.7325\n",
            "dtype: float64\n",
            "----------------------------------------------------------------------------------------------------\n"
          ],
          "name": "stdout"
        }
      ]
    },
    {
      "cell_type": "markdown",
      "metadata": {
        "id": "NWW0CjvLHrz-"
      },
      "source": [
        "* The average weather temperature under which crops grow in Kharif season is 26.87 degree celsius.\n",
        "* The crop which are grown during the season Rabi are Bajra, Brinjal, Cabbage, Castor seed, Coriander, etc(listed in the above cell).\n",
        "* The average weather temperature under which these crops grow in Rabi season is 21.65 degree celsius."
      ]
    },
    {
      "cell_type": "code",
      "metadata": {
        "id": "5xf6jzw3HkJH"
      },
      "source": [
        ""
      ],
      "execution_count": 32,
      "outputs": []
    }
  ]
}